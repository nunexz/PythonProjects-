{
 "cells": [
  {
   "cell_type": "markdown",
   "metadata": {},
   "source": [
    "# Como instalar um Módulo/Biblioteca que não tenha no seu computador\n",
    "\n",
    "### Estrutura:\n",
    "\n",
    "- Usaremos o \"pip\" para isso. É um gerenciador de módulos/pacotes/bibliotecas que ajuda a gente a instalar, atualizar, desinstalar novos módulos\n",
    "- Não precisa dominar pip, apenas os comandos que vamos usar aqui mesmo\n",
    "\n",
    "Passo 1: Abrir o Prompt do Anaconda<br>\n",
    "Passo 2: Instalar com o pip os pacotes que quiser<br>\n",
    "Passo 3: Reiniciar o Jupyter (nem sempre necessário, mas na dúvida é melhor fazer)<br>"
   ]
  },
  {
   "cell_type": "code",
   "execution_count": 2,
   "metadata": {},
   "outputs": [],
   "source": [
    "import keyboard\n",
    "\n",
    "keyboard.press_and_release('ctrl+t')\n",
    "\n",
    "keyboard.write('hashtagtreinamentos.com')\n",
    "\n",
    "keyboard.press_and_release('enter')"
   ]
  }
 ],
 "metadata": {
  "kernelspec": {
   "display_name": "Python 3 (ipykernel)",
   "language": "python",
   "name": "python3"
  },
  "language_info": {
   "codemirror_mode": {
    "name": "ipython",
    "version": 3
   },
   "file_extension": ".py",
   "mimetype": "text/x-python",
   "name": "python",
   "nbconvert_exporter": "python",
   "pygments_lexer": "ipython3",
   "version": "3.9.12"
  }
 },
 "nbformat": 4,
 "nbformat_minor": 4
}
