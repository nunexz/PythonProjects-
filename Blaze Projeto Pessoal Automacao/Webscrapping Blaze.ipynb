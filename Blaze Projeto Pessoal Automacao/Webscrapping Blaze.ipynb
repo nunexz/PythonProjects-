{
 "cells": [
  {
   "cell_type": "code",
   "execution_count": null,
   "id": "922a0674",
   "metadata": {},
   "outputs": [],
   "source": [
    "from selenium.webdriver.common.by import By\n",
    "from selenium import webdriver\n",
    "from selenium.webdriver.chrome.service import Service\n",
    "from webdriver_manager.chrome import ChromeDriverManager\n",
    "\n",
    "\n",
    "servico = Service(ChromeDriverManager().install())\n",
    "navegador = webdriver.Chrome(service=servico)\n",
    "navegador.get('https://historicosblaze.com/br/blaze/doubles')\n",
    "\n",
    "double = navegador.find_element(By.XPATH, '//*[@id=\"main-container\"]/div[1]/div[3]').text\n",
    "\n",
    "print(double)"
   ]
  }
 ],
 "metadata": {
  "kernelspec": {
   "display_name": "Python 3 (ipykernel)",
   "language": "python",
   "name": "python3"
  },
  "language_info": {
   "codemirror_mode": {
    "name": "ipython",
    "version": 3
   },
   "file_extension": ".py",
   "mimetype": "text/x-python",
   "name": "python",
   "nbconvert_exporter": "python",
   "pygments_lexer": "ipython3",
   "version": "3.9.12"
  }
 },
 "nbformat": 4,
 "nbformat_minor": 5
}
