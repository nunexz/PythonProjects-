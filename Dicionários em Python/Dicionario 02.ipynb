{
 "cells": [
  {
   "cell_type": "markdown",
   "metadata": {},
   "source": [
    "# Não confie na ordem dos dicionários, use as chaves\n",
    "\n",
    "### Python Versões Antigas x Versões Novas\n",
    "\n",
    "- Dicionários eram \"sem ordem\". Atualmente tem ordem, mas o certo é usar as chaves\n",
    "- 2 formas de pegar um valor:\n",
    "    - dicionario[chave]\n",
    "    - .get(chave)"
   ]
  },
  {
   "cell_type": "code",
   "execution_count": 2,
   "metadata": {},
   "outputs": [],
   "source": [
    "mais_vendidos = {'tecnologia': 'iphone', 'refrigeracao': 'ar consul 12000 btu', 'livros': 'o alquimista', 'eletrodoméstico': 'geladeira', 'lazer': 'prancha surf'}\n",
    "\n",
    "vendas_tecnologia = {'iphone': 15000, 'samsung galaxy': 12000, 'tv samsung': 10000, 'ps5': 14300, 'tablet': 1720, 'ipad': 1000, 'tv philco': 2500, 'notebook hp': 1000, 'notebook dell': 17000, 'notebook asus': 2450}"
   ]
  },
  {
   "cell_type": "markdown",
   "metadata": {},
   "source": [
    "- Qual foi o item mais vendido nas categorias 'livros' e 'lazer'?\n",
    "- Quanto foi vendido de 'notebook asus' e de 'ipad'?"
   ]
  },
  {
   "cell_type": "code",
   "execution_count": 5,
   "metadata": {},
   "outputs": [
    {
     "name": "stdout",
     "output_type": "stream",
     "text": [
      "O mais vendido na categoria livros foi o alquimista\n",
      "O mais vendido na categoria lazer foi prancha surf\n",
      "foi vendido R$2450 em notebooks Asus\n",
      "foi vendido R$1000 em Ipads\n",
      "O mais vendido na categoria livros foi o alquimista\n",
      "O mais vendido na categoria lazer foi prancha surf\n",
      "O mais vendido na categoria livros foi 2450\n",
      "O mais vendido na categoria livros foi 1000\n"
     ]
    }
   ],
   "source": [
    "# respondendo com a chave, igual a aula anterior\n",
    "livros = mais_vendidos['livros']\n",
    "lazer = mais_vendidos['lazer']\n",
    "\n",
    "print(f\"O mais vendido na categoria livros foi {livros}\")\n",
    "print(f\"O mais vendido na categoria lazer foi {lazer}\")\n",
    "\n",
    "notebook = vendas_tecnologia['notebook asus']\n",
    "ipad = vendas_tecnologia['ipad']\n",
    "\n",
    "print(f\"foi vendido R${notebook} em notebooks Asus\")\n",
    "print(f\"foi vendido R${ipad} em Ipads\")\n",
    "\n",
    "\n",
    "# respondendo com o método get\n",
    "\n",
    "print(f\"O mais vendido na categoria livros foi {mais_vendidos.get('livros')}\")\n",
    "print(f\"O mais vendido na categoria lazer foi {mais_vendidos.get('lazer')}\")\n",
    "\n",
    "print(f\"O mais vendido na categoria livros foi {vendas_tecnologia.get('notebook asus')}\")\n",
    "print(f\"O mais vendido na categoria livros foi {vendas_tecnologia.get('ipad')}\")\n"
   ]
  },
  {
   "cell_type": "markdown",
   "metadata": {},
   "source": [
    "### Verificar se item está no dicionário:\n",
    "\n",
    "- if\n",
    "- .get(chave) = None\n",
    "\n",
    "Se tentarmos procurar as vendas de \"copo\" na lista de vendas tecnologia, o que acontece?"
   ]
  },
  {
   "cell_type": "code",
   "execution_count": 6,
   "metadata": {},
   "outputs": [
    {
     "name": "stdout",
     "output_type": "stream",
     "text": [
      "O item copo não está presente na lista de vendas tecnologia\n"
     ]
    }
   ],
   "source": [
    "#usando if para verificar se o item copo está na lista de vendas de tecnologia\n",
    "\n",
    "if 'copo' in vendas_tecnologia:\n",
    "    print(\"O item copo está presente na lista de vendas tecnologia\")\n",
    "else:\n",
    "    print(\"O item copo não está presente na lista de vendas tecnologia\")\n",
    "    \n",
    "#usando .get(chave) = None\n",
    "\n",
    "if vendas_tecnologia.get('copo') == None:\n",
    "    "
   ]
  }
 ],
 "metadata": {
  "kernelspec": {
   "display_name": "Python 3 (ipykernel)",
   "language": "python",
   "name": "python3"
  },
  "language_info": {
   "codemirror_mode": {
    "name": "ipython",
    "version": 3
   },
   "file_extension": ".py",
   "mimetype": "text/x-python",
   "name": "python",
   "nbconvert_exporter": "python",
   "pygments_lexer": "ipython3",
   "version": "3.9.12"
  }
 },
 "nbformat": 4,
 "nbformat_minor": 4
}
