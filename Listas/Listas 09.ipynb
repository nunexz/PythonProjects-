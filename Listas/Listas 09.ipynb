{
 "cells": [
  {
   "cell_type": "markdown",
   "metadata": {},
   "source": [
    "# Copiar e \"Igualdade\" de Listas\n",
    "\n",
    "### Estrutura:\n",
    "\n",
    "- Quando fazemos:<br>\n",
    "lista2 = lista1<br>\n",
    "não estamos criando uma lista nova, mas estamos atribuindo outra variável à mesma lista.\n",
    "\n",
    "- Se quisermos copiar lista devemos fazer<br>\n",
    "lista2 = lista1.copy()<br>\n",
    "ou entao<br>\n",
    "lista2 = lista1[:]\n",
    "\n",
    "Para entender bem isso, vamos ver na prática:"
   ]
  },
  {
   "cell_type": "code",
   "execution_count": 4,
   "metadata": {},
   "outputs": [
    {
     "name": "stdout",
     "output_type": "stream",
     "text": [
      "['ipad', 'iphone 11', 'apple tv']\n",
      "['ipad', 'iphone x', 'apple tv']\n"
     ]
    }
   ],
   "source": [
    "lista = ['ipad', 'iphone x', 'apple tv']\n",
    "lista2 = lista + []\n",
    "\n",
    "lista[1] = 'iphone 11'\n",
    "\n",
    "print(lista)\n",
    "print(lista2)"
   ]
  },
  {
   "cell_type": "markdown",
   "metadata": {},
   "source": [
    "### Agora copiando:"
   ]
  },
  {
   "cell_type": "code",
   "execution_count": null,
   "metadata": {},
   "outputs": [],
   "source": [
    "lista = ['ipad', 'iphone x', 'apple tv']\n",
    "lista2 = lista.copy()\n",
    "\n",
    "lista[1] = 'iphone 11'\n",
    "\n",
    "print(lista2)"
   ]
  }
 ],
 "metadata": {
  "kernelspec": {
   "display_name": "Python 3 (ipykernel)",
   "language": "python",
   "name": "python3"
  },
  "language_info": {
   "codemirror_mode": {
    "name": "ipython",
    "version": 3
   },
   "file_extension": ".py",
   "mimetype": "text/x-python",
   "name": "python",
   "nbconvert_exporter": "python",
   "pygments_lexer": "ipython3",
   "version": "3.9.12"
  }
 },
 "nbformat": 4,
 "nbformat_minor": 4
}
