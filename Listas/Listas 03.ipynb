{
 "cells": [
  {
   "cell_type": "markdown",
   "metadata": {},
   "source": [
    "# Como descobrir o índice de um item de uma lista?\n",
    "\n",
    "i = lista.index('item')"
   ]
  },
  {
   "cell_type": "markdown",
   "metadata": {},
   "source": [
    "Exemplo:\n",
    "\n",
    "Digamos que você puxou do Banco de Dados da sua empresa uma lista com todos os produtos que a empresa vende e a quantidade em estoque de todos eles."
   ]
  },
  {
   "cell_type": "code",
   "execution_count": 1,
   "metadata": {},
   "outputs": [],
   "source": [
    "produtos = ['tv', 'celular', 'tablet', 'mouse', 'teclado', 'geladeira', 'forno']\n",
    "estoque = [100, 150, 100, 120, 70, 180, 80]"
   ]
  },
  {
   "cell_type": "markdown",
   "metadata": {},
   "source": [
    "Nesse caso a lista é \"pequena\" para fins didáticos, mas essa lista poderia ter dezenas de milhares de produtos diferentes.\n",
    "\n",
    "E agora, como eu faço para descobrir a quantidade em estoque do produto geladeira?"
   ]
  },
  {
   "cell_type": "code",
   "execution_count": 2,
   "metadata": {},
   "outputs": [
    {
     "name": "stdout",
     "output_type": "stream",
     "text": [
      "Quantidade de estoque do item Tablet é de 100\n"
     ]
    }
   ],
   "source": [
    "i = produtos.index('tablet')\n",
    "qtde_estoque = estoque[i]\n",
    "\n",
    "print('Quantidade de estoque do item Tablet é de {}' .format(qtde_estoque))"
   ]
  },
  {
   "cell_type": "markdown",
   "metadata": {},
   "source": [
    "Crie um programa para fazer uma consulta de estoque. O usuário do programa deve inserir o nome do produto e, caso ele não exista na lista, ele deve ser avisado. Caso exista, o programa deve dizer a quantidade de unidades em estoque do produto"
   ]
  },
  {
   "cell_type": "code",
   "execution_count": 6,
   "metadata": {},
   "outputs": [
    {
     "name": "stdout",
     "output_type": "stream",
     "text": [
      "Insira o nome do produto em letra minúscula tablet\n",
      "Temos 100 itens do produto tablet em estoque\n"
     ]
    }
   ],
   "source": [
    "produto = input('Insira o nome do produto em letra minúscula ')\n",
    "\n",
    "if produto in produtos:\n",
    "    i = produtos.index(produto)\n",
    "    qtde_estoque = estoque[i]\n",
    "    print('Temos {} itens do produto {} em estoque' .format(qtde_estoque, produto))\n",
    "else:\n",
    "    print('Produto {} não existe em estoque, verifique se você escreveu com letras minúsculas' .format(produto))\n",
    "\n",
    "\n"
   ]
  }
 ],
 "metadata": {
  "kernelspec": {
   "display_name": "Python 3 (ipykernel)",
   "language": "python",
   "name": "python3"
  },
  "language_info": {
   "codemirror_mode": {
    "name": "ipython",
    "version": 3
   },
   "file_extension": ".py",
   "mimetype": "text/x-python",
   "name": "python",
   "nbconvert_exporter": "python",
   "pygments_lexer": "ipython3",
   "version": "3.9.12"
  }
 },
 "nbformat": 4,
 "nbformat_minor": 4
}
