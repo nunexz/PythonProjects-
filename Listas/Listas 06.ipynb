{
 "cells": [
  {
   "cell_type": "markdown",
   "metadata": {},
   "source": [
    "# Juntar Listas, Ordenar e Cuidados Especiais\n",
    "\n",
    "### 2 formas:\n",
    "\n",
    "- lista1.extend(lista2)\n",
    "- lista_nova = lista1 + lista2\n",
    "\n",
    "Obs: o Método .append não junta listas, mas adiciona um valor no final da lista"
   ]
  },
  {
   "cell_type": "code",
   "execution_count": 8,
   "metadata": {},
   "outputs": [
    {
     "name": "stdout",
     "output_type": "stream",
     "text": [
      "['apple tv', 'mac', 'iphone x', 'iphone 11', 'IPad', 'apple watch', 'mac book', 'airpods', 'iphone 12', 'ioculos']\n"
     ]
    }
   ],
   "source": [
    "produtos = ['apple tv', 'mac', 'iphone x', 'iphone 11', 'IPad', 'apple watch', 'mac book', 'airpods']\n",
    "novos_produtos = ['iphone 12', 'ioculos']\n",
    "\n",
    "produtos.extend(novos_produtos)\n",
    "\n",
    "print(produtos)"
   ]
  },
  {
   "cell_type": "markdown",
   "metadata": {},
   "source": [
    "### Cuidado:\n",
    "\n",
    "- [1] + [2] não é a mesma coisa que 1 + 2, então cuidado sempre com o formato dos valores na hora de fazer operações."
   ]
  },
  {
   "cell_type": "code",
   "execution_count": 7,
   "metadata": {},
   "outputs": [
    {
     "name": "stdout",
     "output_type": "stream",
     "text": [
      "35000 aqui é a soma, [15000, 20000] aqui é a lista\n"
     ]
    }
   ],
   "source": [
    "vendas = [1000, 1500, 15000, 20000, 270, 900, 100, 1200]\n",
    "vendas_iphonex = [15000]\n",
    "vendas_iphone11 = [20000]\n",
    "\n",
    "soma_vendas_produtos = vendas_iphonex[0] + vendas_iphone11[0]\n",
    "lista_vendas_produtos = vendas_iphonex + vendas_iphone11\n",
    "\n",
    "print('{} aqui é a soma, {} aqui é a lista' .format(soma_vendas_produtos, lista_vendas_produtos))"
   ]
  },
  {
   "cell_type": "markdown",
   "metadata": {},
   "source": [
    "### Ordenar listas\n",
    "\n",
    "lista.sort()"
   ]
  },
  {
   "cell_type": "code",
   "execution_count": 6,
   "metadata": {},
   "outputs": [
    {
     "name": "stdout",
     "output_type": "stream",
     "text": [
      "35000 aqui é a soma, [15000, 20000] aqui é a lista\n"
     ]
    }
   ],
   "source": [
    "vendas.sort(reverse=True)\n",
    "print(vendas)\n",
    "\n",
    "produtos.sort()\n",
    "\n"
   ]
  }
 ],
 "metadata": {
  "kernelspec": {
   "display_name": "Python 3 (ipykernel)",
   "language": "python",
   "name": "python3"
  },
  "language_info": {
   "codemirror_mode": {
    "name": "ipython",
    "version": 3
   },
   "file_extension": ".py",
   "mimetype": "text/x-python",
   "name": "python",
   "nbconvert_exporter": "python",
   "pygments_lexer": "ipython3",
   "version": "3.9.12"
  }
 },
 "nbformat": 4,
 "nbformat_minor": 4
}
