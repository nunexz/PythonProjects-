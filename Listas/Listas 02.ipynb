{
 "cells": [
  {
   "cell_type": "markdown",
   "metadata": {},
   "source": [
    "# Listas em Python\n",
    "\n",
    "## Estrutura:\n",
    "\n",
    "lista = [valor, valor, valor, valor, ...]\n",
    "\n",
    "lista[i] -> é o valor de índice i da lista. <br>\n",
    "Obs: Lembre que no python o índice começa em 0, então o primeiro item de uma lista é o item lista[0]\n",
    "\n",
    "Para substituir um valor de uma lista você pode fazer:<br>\n",
    "lista[i] = novo_valor\n",
    "\n",
    "Listas de Produtos de uma Loja:"
   ]
  },
  {
   "cell_type": "code",
   "execution_count": 1,
   "metadata": {},
   "outputs": [],
   "source": [
    "produtos = ['tv', 'celular', 'mouse', 'teclado', 'tablet']"
   ]
  },
  {
   "cell_type": "markdown",
   "metadata": {},
   "source": [
    "Lista de Unidades Vendidas de cada Produto da Loja"
   ]
  },
  {
   "cell_type": "code",
   "execution_count": 2,
   "metadata": {},
   "outputs": [],
   "source": [
    "vendas = [1000, 1500, 350, 270, 900]"
   ]
  },
  {
   "cell_type": "markdown",
   "metadata": {},
   "source": [
    "### Nesse caso, as listas funcionam da seguinte forma:"
   ]
  },
  {
   "cell_type": "raw",
   "metadata": {},
   "source": [
    "produtos = ['tv', 'celular', 'mouse', 'teclado', 'tablet']\n",
    "              0 ,      1   ,    2   ,     3    ,     4   \n",
    "vendas = [  1000,    1500  ,   350  ,    270   ,    900  ]"
   ]
  },
  {
   "cell_type": "code",
   "execution_count": 4,
   "metadata": {},
   "outputs": [
    {
     "name": "stdout",
     "output_type": "stream",
     "text": [
      "Vendas do produto teclado foram de 300 unidades\n"
     ]
    }
   ],
   "source": [
    "vendas[3] = 300\n",
    "print('Vendas do produto {} foram de {} unidades'.format(produtos[3], vendas[3]))"
   ]
  },
  {
   "cell_type": "code",
   "execution_count": 5,
   "metadata": {},
   "outputs": [
    {
     "name": "stdout",
     "output_type": "stream",
     "text": [
      "lara@gmaal.com\n"
     ]
    }
   ],
   "source": [
    "texto = 'lira@gmail.com'\n",
    "texto = texto.replace('i', 'a')\n",
    "print(texto)"
   ]
  }
 ],
 "metadata": {
  "kernelspec": {
   "display_name": "Python 3 (ipykernel)",
   "language": "python",
   "name": "python3"
  },
  "language_info": {
   "codemirror_mode": {
    "name": "ipython",
    "version": 3
   },
   "file_extension": ".py",
   "mimetype": "text/x-python",
   "name": "python",
   "nbconvert_exporter": "python",
   "pygments_lexer": "ipython3",
   "version": "3.9.12"
  }
 },
 "nbformat": 4,
 "nbformat_minor": 4
}
