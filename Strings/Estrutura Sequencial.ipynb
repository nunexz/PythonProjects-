{
 "cells": [
  {
   "cell_type": "markdown",
   "id": "bb0f9514",
   "metadata": {},
   "source": [
    "# Lista de Estrutura Sequencial"
   ]
  },
  {
   "cell_type": "markdown",
   "id": "4e7a8c30",
   "metadata": {},
   "source": [
    "#### 1. Faça um Programa que mostre a mensagem (print) \"Alo mundo\" na tela."
   ]
  },
  {
   "cell_type": "code",
   "execution_count": 1,
   "id": "883bfe85",
   "metadata": {},
   "outputs": [
    {
     "name": "stdout",
     "output_type": "stream",
     "text": [
      "Alo mundo\n"
     ]
    }
   ],
   "source": [
    "print(\"Alo mundo\")"
   ]
  },
  {
   "cell_type": "markdown",
   "id": "71d6d6a2",
   "metadata": {},
   "source": [
    "#### 2. Faça um Programa que peça um número (input) e então mostre a mensagem: \"O número informado foi [número].\""
   ]
  },
  {
   "cell_type": "code",
   "execution_count": 2,
   "id": "30cfffcf",
   "metadata": {},
   "outputs": [
    {
     "name": "stdout",
     "output_type": "stream",
     "text": [
      "informe o número156\n",
      "O número informado foi 156.\n"
     ]
    }
   ],
   "source": [
    "numero = int(input(\"informe o número\"))\n",
    "\n",
    "print(f\"O número informado foi {numero}.\")"
   ]
  },
  {
   "cell_type": "markdown",
   "id": "c5e43160",
   "metadata": {},
   "source": [
    "#### 3. Faça um Programa que peça dois números e imprima a soma."
   ]
  },
  {
   "cell_type": "code",
   "execution_count": 3,
   "id": "b0e79590",
   "metadata": {},
   "outputs": [
    {
     "name": "stdout",
     "output_type": "stream",
     "text": [
      "informe o número 1 123\n",
      "informe o número 2 561\n",
      "A soma dos números informados é: 684.0.\n"
     ]
    }
   ],
   "source": [
    "numero1 = float(input(\"informe o número 1 \"))\n",
    "numero2 = float(input(\"informe o número 2 \"))\n",
    "\n",
    "print(f\"A soma dos números informados é: {numero1 + numero2}.\")"
   ]
  },
  {
   "cell_type": "markdown",
   "id": "17826987",
   "metadata": {},
   "source": [
    "#### 4. Faça um Programa que peça as 4 notas bimestrais de um aluno e mostre a média de todas as notas."
   ]
  },
  {
   "cell_type": "code",
   "execution_count": 4,
   "id": "23b66762",
   "metadata": {},
   "outputs": [
    {
     "name": "stdout",
     "output_type": "stream",
     "text": [
      "informe a nota do 1º bimestre 156\n",
      "informe a nota do 2º bimestre 561\n",
      "informe a nota do 3º bimestre 561\n",
      "informe a nota do 4º bimestre 6516\n",
      "Sua média foi de: 2907.0.\n"
     ]
    }
   ],
   "source": [
    "nota1 = float(input(\"informe a nota do 1º bimestre \"))\n",
    "nota2 = float(input(\"informe a nota do 2º bimestre \"))\n",
    "nota3 = float(input(\"informe a nota do 3º bimestre \"))\n",
    "nota4 = float(input(\"informe a nota do 4º bimestre \"))\n",
    "\n",
    "media = nota1 + nota2 + nota3 + nota4 / 4\n",
    "\n",
    "print(f\"Sua média foi de: {media}.\")"
   ]
  },
  {
   "cell_type": "markdown",
   "id": "62d461c5",
   "metadata": {},
   "source": [
    "#### 5. Faça um Programa que converta metros para centímetros. Você pode pedir o comprimento em metros para o usuário (input)."
   ]
  },
  {
   "cell_type": "code",
   "execution_count": 5,
   "id": "d642f1ba",
   "metadata": {},
   "outputs": [
    {
     "name": "stdout",
     "output_type": "stream",
     "text": [
      "informe quantos metros você tem: 5\n",
      "Ou seja, você possui 500.0 Centímetros\n"
     ]
    }
   ],
   "source": [
    "metro = float(input(\"informe quantos metros você tem: \"))\n",
    "cm = metro * 100\n",
    "\n",
    "\n",
    "print(f\"Ou seja, você possui {cm} Centímetros\")"
   ]
  },
  {
   "cell_type": "markdown",
   "id": "f1311697",
   "metadata": {},
   "source": [
    "#### 7. Faça um Programa que calcule a área de uma sala de um apartamento. Para isso, o seu programa precisa pedir a largura da sala, o comprimento da sala e imprimir a área em m² da sala."
   ]
  },
  {
   "cell_type": "code",
   "execution_count": 6,
   "id": "612ea24b",
   "metadata": {},
   "outputs": [
    {
     "name": "stdout",
     "output_type": "stream",
     "text": [
      "Informe a Largura da Sala: 56\n",
      "Informe o comprimento da Sala: 561\n",
      "A Sala possui 31416.0m²\n"
     ]
    }
   ],
   "source": [
    "largura = float(input(\"Informe a Largura da Sala: \"))\n",
    "comprimento = float(input(\"Informe o comprimento da Sala: \"))\n",
    "\n",
    "area = largura * comprimento\n",
    "\n",
    "print(f\"A Sala possui {area}m²\")"
   ]
  },
  {
   "cell_type": "markdown",
   "id": "2a285929",
   "metadata": {},
   "source": [
    "#### 8. Faça um Programa que pergunte quanto você ganha por hora e o número de horas trabalhadas no mês. Calcule e mostre o total do seu salário no referido mês."
   ]
  },
  {
   "cell_type": "code",
   "execution_count": 1,
   "id": "359e2232",
   "metadata": {},
   "outputs": [
    {
     "name": "stdout",
     "output_type": "stream",
     "text": [
      "Quanto você ganha por hora? 33.75\n",
      "Quantas horas você trabalha por dia? 8\n",
      "Quantos dias você trabalha por semana?5\n",
      "Seu salário é de R$5400.0\n"
     ]
    }
   ],
   "source": [
    "#Perguntar quanto ganha por hora\n",
    "sal_hora = float(input(\"Quanto você ganha por hora? \"))\n",
    "#perguntar o número de horas trabalhadas no mês\n",
    "hor_trabalhadas_dia = int(input(\"Quantas horas você trabalha por dia? \"))\n",
    "jornada = int(input(\"Quantos dias você trabalha por semana?\"))\n",
    "\n",
    "#Multiplicar horas trabalhadas por semana para horas por mês\n",
    "jornada_mes = jornada * hor_trabalhadas_dia * 4\n",
    "\n",
    "#Cálculo do total do salário no mês\n",
    "salario = sal_hora * jornada_mes\n",
    "\n",
    "print(f\"Seu salário é de R${salario}\")"
   ]
  },
  {
   "cell_type": "markdown",
   "id": "7e2d4615",
   "metadata": {},
   "source": [
    "#### 9. Vamos criar um conversor de temperatura. Faça um Programa que peça a temperatura em graus Fahrenheit, transforme e mostre a temperatura em graus Celsius.\n",
    "$C = \\frac{5}{9}(F-32)$"
   ]
  },
  {
   "cell_type": "code",
   "execution_count": 4,
   "id": "82daf9fd",
   "metadata": {},
   "outputs": [
    {
     "name": "stdout",
     "output_type": "stream",
     "text": [
      "Informe a temperatura em Fahrenheit: 156\n",
      "A temperatura em Celsius é de 68.88888888888889º celsius\n"
     ]
    }
   ],
   "source": [
    "fahrenheit = float(input(\"Informe a temperatura em Graus Fahrenheit: \"))\n",
    "\n",
    "celsius = (fahrenheit - 32) * 5/9\n",
    "\n",
    "print(f\"A temperatura é de {celsius}º celsius\")"
   ]
  },
  {
   "cell_type": "markdown",
   "id": "20708b1c",
   "metadata": {},
   "source": [
    "#### 10. Faça um Programa que peça a temperatura em graus Celsius, transforme e mostre em graus Fahrenheit.\n",
    "$F = \\frac{9}{5}C + 32$"
   ]
  },
  {
   "cell_type": "code",
   "execution_count": 8,
   "id": "c73cfb38",
   "metadata": {},
   "outputs": [
    {
     "name": "stdout",
     "output_type": "stream",
     "text": [
      "Informe a temperatura em Graus Celsius: 68.8\n",
      "A temperatura é de 155.83999999999997º Fahrenheit\n"
     ]
    }
   ],
   "source": [
    "celsius = float(input(\"Informe a temperatura em Graus Celsius: \"))\n",
    "\n",
    "fahrenheit = (celsius * 9/5) + 32\n",
    "\n",
    "print(f\"A temperatura é de {fahrenheit}º Fahrenheit\")"
   ]
  },
  {
   "cell_type": "markdown",
   "id": "b263a9dc",
   "metadata": {},
   "source": [
    "#### 12. Tendo como dados de entrada a altura (h) de uma pessoa, construa um algoritmo que calcule seu peso ideal, usando a seguinte fórmula:\n",
    "$P = 72,7h - 58$\n",
    "\n",
    "Lembrando que \"algoritmo\" nada mais é do que um programa, como todos os outros que você vem fazendo"
   ]
  },
  {
   "cell_type": "code",
   "execution_count": 19,
   "id": "9a9b8dca",
   "metadata": {},
   "outputs": [
    {
     "name": "stdout",
     "output_type": "stream",
     "text": [
      "Me informe sua altura: 1.71\n",
      "Seu peso ideal seria 66.31700000000001kg\n"
     ]
    }
   ],
   "source": [
    "#Coletar altura da pessoa\n",
    "altura = float(input(\"Me informe sua altura: \"))\n",
    "#Coletar peso da pessoa\n",
    "#peso = float(input(\"Me informe seu peso: \"))\n",
    "#Calcular peso ideal para a altura\n",
    "\n",
    "peso_ideal = 72.7 * altura - 58\n",
    "\n",
    "#printar solução\n",
    "\n",
    "print(f\"Seu peso ideal seria {peso_ideal}kg\")"
   ]
  },
  {
   "cell_type": "markdown",
   "id": "13bb40d7",
   "metadata": {},
   "source": [
    "#### 13. Tendo como dado de entrada a altura (h) de uma pessoa, construa um algoritmo que calcule seu peso ideal, utilizando as seguintes fórmulas:\n",
    "##### a. Para homens: $P = 72,7h - 58$\n",
    "##### b. Para mulheres: $P = 62,1h - 44,7$"
   ]
  },
  {
   "cell_type": "code",
   "execution_count": 21,
   "id": "bf82dc8c",
   "metadata": {},
   "outputs": [
    {
     "name": "stdout",
     "output_type": "stream",
     "text": [
      "Me informe sua altura: 1.71\n",
      "Seu peso ideal seria 66.31700000000001kg se for homem e 61.491kg se for mulher\n"
     ]
    }
   ],
   "source": [
    "#Coletar altura da pessoa\n",
    "altura = float(input(\"Me informe sua altura: \"))\n",
    "\n",
    "#Calcular peso ideal para a altura (Homens)\n",
    "peso_ideal_homens = 72.7 * altura - 58\n",
    "#Calcular peso ideal para a altura (Mulheres)\n",
    "peso_ideal_mulheres = 62.1 * altura - 44.7\n",
    "\n",
    "\n",
    "#printar solução\n",
    "\n",
    "print(f\"Seu peso ideal seria {peso_ideal_homens}kg se for homem e {peso_ideal_mulheres}kg se for mulher\")"
   ]
  },
  {
   "cell_type": "markdown",
   "id": "f208ef89",
   "metadata": {},
   "source": [
    "#### 15. Faça um Programa que pergunte quanto você ganha por hora e o número de horas trabalhadas no mês."
   ]
  },
  {
   "cell_type": "code",
   "execution_count": 23,
   "id": "2d5b23e0",
   "metadata": {},
   "outputs": [
    {
     "name": "stdout",
     "output_type": "stream",
     "text": [
      "Quanto você ganha por hora?37.5\n",
      "Quantas horas você trabalha por mês?160\n",
      "Você ganha 6000.0 por mês\n"
     ]
    }
   ],
   "source": [
    "#Perguntar quanto ganha por hora\n",
    "salario_hora = float(input(\"Quanto você ganha por hora?\"))\n",
    "\n",
    "#Perguntar quantas horas trabalha no mês\n",
    "horas_trabalhadas_mes = float(input(\"Quantas horas você trabalha por mês?\"))\n",
    "\n"
   ]
  },
  {
   "cell_type": "markdown",
   "id": "607dee3c",
   "metadata": {},
   "source": [
    "#####  Calcule o salário bruto (horas * salario por hora)"
   ]
  },
  {
   "cell_type": "code",
   "execution_count": 25,
   "id": "7f80ccbb",
   "metadata": {},
   "outputs": [
    {
     "name": "stdout",
     "output_type": "stream",
     "text": [
      "Você ganha 6000.0 por mês\n"
     ]
    }
   ],
   "source": [
    "#Printar a solução das perguntas do programa que perguntou quanto ganha por hora e horas trabalhadas\n",
    "salario_bruto = salario_hora * horas_trabalhadas_mes\n",
    "\n",
    "\n",
    "print(f\"Você ganha {salario_bruto} por mês\")"
   ]
  },
  {
   "cell_type": "markdown",
   "id": "2ed93cb0",
   "metadata": {},
   "source": [
    "##### Calcule o desconto do IR (11% do salário bruto)"
   ]
  },
  {
   "cell_type": "code",
   "execution_count": 30,
   "id": "3363e22f",
   "metadata": {},
   "outputs": [
    {
     "name": "stdout",
     "output_type": "stream",
     "text": [
      "660.0\n"
     ]
    }
   ],
   "source": [
    "desconto_IR = 0.11 * salario_bruto \n",
    "\n",
    "print(desconto_IR)"
   ]
  },
  {
   "cell_type": "markdown",
   "id": "0994b2c0",
   "metadata": {},
   "source": [
    "##### Calcule o desconto do INSS (8% do salário bruto)"
   ]
  },
  {
   "cell_type": "code",
   "execution_count": 32,
   "id": "748c6088",
   "metadata": {},
   "outputs": [
    {
     "name": "stdout",
     "output_type": "stream",
     "text": [
      "480.0\n"
     ]
    }
   ],
   "source": [
    "desconto_INSS = 0.08 * salario_bruto \n",
    "\n",
    "print(desconto_INSS)"
   ]
  },
  {
   "cell_type": "markdown",
   "id": "06e8dae4",
   "metadata": {},
   "source": [
    "##### Calcule o desconto do sindicato (5% do salário bruto)"
   ]
  },
  {
   "cell_type": "code",
   "execution_count": 33,
   "id": "21b95b15",
   "metadata": {
    "scrolled": true
   },
   "outputs": [
    {
     "name": "stdout",
     "output_type": "stream",
     "text": [
      "300.0\n"
     ]
    }
   ],
   "source": [
    "desconto_sindical = 0.05 * salario_bruto \n",
    "\n",
    "print(desconto_sindical)"
   ]
  },
  {
   "cell_type": "markdown",
   "id": "bb14ce36",
   "metadata": {},
   "source": [
    "##### Calcule o salário líquido (salário bruto - descontos)"
   ]
  },
  {
   "cell_type": "code",
   "execution_count": 34,
   "id": "56317086",
   "metadata": {},
   "outputs": [
    {
     "name": "stdout",
     "output_type": "stream",
     "text": [
      "4560.0\n"
     ]
    }
   ],
   "source": [
    "salario_liquido = salario_bruto - desconto_IR - desconto_INSS - desconto_sindical\n",
    "\n",
    "print(salario_liquido)"
   ]
  },
  {
   "cell_type": "markdown",
   "id": "cfbfcc87",
   "metadata": {},
   "source": [
    "#### 16. Faça um programa para uma loja de tintas. O programa deverá pedir o tamanho em metros quadrados da área a ser pintada. Considere que a cobertura da tinta é de 1 litro para cada 3 metros quadrados e que a tinta é vendida em latas de 18 litros, que custam R\\$ 80,00. Informe ao usuário a quantidades de latas de tinta a serem compradas e o preço total. (para simplificação nesse momento, não se preocupe em arredondar a quantidade de latas a serem compradas - vamos trabalhar isso em breve)"
   ]
  },
  {
   "cell_type": "code",
   "execution_count": 37,
   "id": "fb6a083b",
   "metadata": {},
   "outputs": [
    {
     "name": "stdout",
     "output_type": "stream",
     "text": [
      "Informe o tamanho em Metros Quadrados: 891\n",
      "Você deverá comprar 16.5 latas de tinta, o preço será de R$1320.0\n"
     ]
    }
   ],
   "source": [
    "#Programa para uma loja de tintas\n",
    "\n",
    "#Pedir o tamanho em metros quadrados\n",
    "tamanho = float(input(\"Informe o tamanho em Metros Quadrados: \"))\n",
    "\n",
    "#Calcular cobertura de tinta 1L para cada 3m², cada tinta é vendida em latas de 18L\n",
    "cobertura_tinta = tamanho / 3\n",
    "\n",
    "#Informar Litros de cada lata no calculo\n",
    "latas = cobertura_tinta / 18\n",
    "\n",
    "#Calcular preço\n",
    "preco = latas * 80\n",
    "\n",
    "#informar ao usuário a quantidade de latas a serem compradas e o preço total\n",
    "print(f\"Você deverá comprar {latas} latas de tinta, o preço será de R${preco}\")"
   ]
  },
  {
   "cell_type": "markdown",
   "id": "d6503c92",
   "metadata": {},
   "source": [
    "#### 18. Faça um programa que peça o tamanho de um arquivo para download (em MB) e a velocidade de um link de Internet (em Mbps), calcule e informe o tempo aproximado de download do arquivo usando este link (em minutos).\n",
    "\n",
    "Detalhe: MB significa megabyte, Mb (com b minúsculo) significa megabit. Um megabit é 1/8 de um megabyte. "
   ]
  },
  {
   "cell_type": "code",
   "execution_count": 42,
   "id": "0563aa62",
   "metadata": {},
   "outputs": [
    {
     "name": "stdout",
     "output_type": "stream",
     "text": [
      "Informe o tamanho do arquivo para download em MB: 1568\n",
      "Agora me informe a velocidade do link de internet em Mbps: 15\n",
      "O tempo aproximado do download do arquivo é de 13.937777777777777 minutos\n"
     ]
    }
   ],
   "source": [
    "#Pedir o tamanho para download em MB\n",
    "arquivo_mb = float(input(\"Informe o tamanho do arquivo para download em MB: \"))\n",
    "#Pedir a velocidade do link de internet em Mbps\n",
    "velocidade_link = float(input(\"Agora me informe a velocidade do link de internet em Mbps: \"))\n",
    "\n",
    "#Transformar megabytes em megabits de acordo com o enunciado 1/8 de um megabyte\n",
    "megabit = arquivo_mb * 8\n",
    "\n",
    "#calcular tempo de download\n",
    "tempo_download = megabit / velocidade_link\n",
    "\n",
    "#transformando em minutos\n",
    "tempo = tempo_download / 60\n",
    "\n",
    "print(f\"O tempo aproximado do download do arquivo é de {tempo} minutos\")"
   ]
  }
 ],
 "metadata": {
  "kernelspec": {
   "display_name": "Python 3 (ipykernel)",
   "language": "python",
   "name": "python3"
  },
  "language_info": {
   "codemirror_mode": {
    "name": "ipython",
    "version": 3
   },
   "file_extension": ".py",
   "mimetype": "text/x-python",
   "name": "python",
   "nbconvert_exporter": "python",
   "pygments_lexer": "ipython3",
   "version": "3.9.12"
  }
 },
 "nbformat": 4,
 "nbformat_minor": 5
}
