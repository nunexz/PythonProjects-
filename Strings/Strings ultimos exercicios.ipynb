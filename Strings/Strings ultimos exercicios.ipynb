{
 "cells": [
  {
   "cell_type": "markdown",
   "id": "2b04bbea",
   "metadata": {},
   "source": [
    "# Strings\n",
    "\n",
    "<span style=\"color: red;\"><b>Todos os exercícios são feitos partindo-se do pressuposto de que todas as entradas são dadas de forma correta. Casos limite não mencionados no enunciado não são abordados porque não fazem parte do exercício.</b></span>"
   ]
  },
  {
   "cell_type": "markdown",
   "id": "5b1f33b9",
   "metadata": {},
   "source": [
    "#### 1. Tamanho de strings. Faça um programa que leia 2 strings e informe o conteúdo delas seguido do seu comprimento. Informe também se as duas strings possuem o mesmo comprimento e são iguais ou diferentes no conteúdo.\n",
    "<pre>\n",
    "Compara duas strings\n",
    "String 1: Brasil Hexa 2006\n",
    "String 2: Brasil! Hexa 2006!\n",
    "Tamanho de \"Brasil Hexa 2006\": 16 caracteres\n",
    "Tamanho de \"Brasil! Hexa 2006!\": 18 caracteres\n",
    "As duas strings são de tamanhos diferentes.\n",
    "As duas strings possuem conteúdo diferente.\n",
    "</pre>"
   ]
  },
  {
   "cell_type": "code",
   "execution_count": 3,
   "id": "c492b657",
   "metadata": {},
   "outputs": [
    {
     "name": "stdout",
     "output_type": "stream",
     "text": [
      "String 1: Brasil Hexa 2006\n",
      "String 2: Brasil! Hexa 2006\n",
      "Tamanho de \"Brasil Hexa 2006\": 16 caracteres\n",
      "Tamanho de \"Brasil! Hexa 2006\": 17 caracteres\n",
      "As duas strings são de tamanhos diferentes\n",
      "As duas strings possuem conteúdos diferentes\n"
     ]
    }
   ],
   "source": [
    "print('Compara duas strings')\n",
    "\n",
    "s1 = input('String 1: ')\n",
    "s2 = input('String 2: ')\n",
    "\n",
    "print(f'Tamanho de \"{s1}\": {len(s1)} caracteres')\n",
    "print(f'Tamanho de \"{s2}\": {len(s2)} caracteres')\n",
    "\n",
    "if len(s1) == len(s2):\n",
    "    print(\"As duas strings são de tamanhos iguais\")\n",
    "else:\n",
    "    print(\"As duas strings são de tamanhos diferentes\")\n",
    "\n",
    "if s1 == s2:\n",
    "    print(\"As duas strings possuem conteúdos iguais\")\n",
    "else:\n",
    "    print(\"As duas strings possuem conteúdos diferentes\")"
   ]
  },
  {
   "cell_type": "markdown",
   "id": "c3068a53",
   "metadata": {},
   "source": [
    "#### 2. Valida e corrige número de telefone. Faça um programa que leia um número de telefone, e corrija o número no caso deste conter somente 7 dígitos, acrescentando o '3' na frente. O usuário pode informar o número com ou sem o traço separador.\n",
    "<pre>\n",
    "Valida e corrige número de telefone\n",
    "Telefone: 461-0133\n",
    "Telefone possui 7 dígitos. Vou acrescentar o digito três na frente.\n",
    "Telefone corrigido sem formatação: 34610133\n",
    "Telefone corrigido com formatação: 3461-0133\n",
    "</pre>"
   ]
  },
  {
   "cell_type": "code",
   "execution_count": 5,
   "id": "0308566d",
   "metadata": {},
   "outputs": [
    {
     "name": "stdout",
     "output_type": "stream",
     "text": [
      "Valida e corrige número de telefone\n",
      "Informe o telefone461-0133\n",
      "O telefone possui 7 dígitos, vou acrescentar o 3 na frente.\n",
      "o telefone ajustado ficou como: 34610133\n",
      "o telefone ajustado ficou como: 3461-0133\n"
     ]
    }
   ],
   "source": [
    "print('Valida e corrige número de telefone')\n",
    "\n",
    "telefone = input(\"Informe o telefone\")\n",
    "telefone = telefone.replace('-', '')\n",
    "\n",
    "if len(telefone) == 7:\n",
    "    print(\"O telefone possui 7 dígitos, vou acrescentar o 3 na frente.\")\n",
    "    telefone = '3' + telefone\n",
    "    print(f\"o telefone ajustado ficou como: {telefone}\")\n",
    "    print(f\"o telefone ajustado ficou como: {telefone[:4]}-{telefone[4:]}\")\n",
    "else:\n",
    "    print(\"O telefone possui a quantidade correta de dígitos\")"
   ]
  }
 ],
 "metadata": {
  "kernelspec": {
   "display_name": "Python 3 (ipykernel)",
   "language": "python",
   "name": "python3"
  },
  "language_info": {
   "codemirror_mode": {
    "name": "ipython",
    "version": 3
   },
   "file_extension": ".py",
   "mimetype": "text/x-python",
   "name": "python",
   "nbconvert_exporter": "python",
   "pygments_lexer": "ipython3",
   "version": "3.9.12"
  }
 },
 "nbformat": 4,
 "nbformat_minor": 5
}
