{
 "cells": [
  {
   "cell_type": "markdown",
   "metadata": {},
   "source": [
    "# Integração Python e SQL\n",
    "\n",
    "### Objetivo\n",
    "\n",
    "A integração do Python com o SQL permite que execute comandos SQL diretamente pelo Python no seu banco de dados. Isso vai permitir a gente pegar consultas e já importar elas para dentro de uma análise no Python automaticamente.\n",
    "\n",
    "### O que vamos precisar\n",
    "\n",
    "- Para aprender, vamos usar o SQLite, o objetivo é simplificar a instalação do SQL para que qualquer um consiga acompanhar.\n",
    "- Para isso, vamos precisar apenas de um driver, que vamos instalar aqui: http://www.ch-werner.de/sqliteodbc/\n",
    "- Um banco de dados para testar -> disponível para Download\n",
    "\n",
    "### No Python, o que vamos usar\n",
    "\n",
    "- Biblioteca pyodbc -> pode ser usada com a mesma estrutura para diversos bancos de dados, como SQL Server, MySQL, Oracle, Access, IBM, etc.\n",
    "\n",
    "### Obs Importante\n",
    "\n",
    "- Isso não vai ser um curso completo de SQL, portanto não vamos trabalhar extensivamente todos os comandos SQL, apesar de fazermos todo o CRUD dentro desse módulo.\n",
    "\n",
    "### Quando faz sentido usar Python e SQL? Quando usar só SQL?\n",
    "\n",
    "- Criação do Banco de Dados\n",
    "- Interagir com um sistema"
   ]
  }
 ],
 "metadata": {
  "kernelspec": {
   "display_name": "Python 3 (ipykernel)",
   "language": "python",
   "name": "python3"
  },
  "language_info": {
   "codemirror_mode": {
    "name": "ipython",
    "version": 3
   },
   "file_extension": ".py",
   "mimetype": "text/x-python",
   "name": "python",
   "nbconvert_exporter": "python",
   "pygments_lexer": "ipython3",
   "version": "3.9.12"
  }
 },
 "nbformat": 4,
 "nbformat_minor": 4
}
