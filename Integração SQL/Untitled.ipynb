{
 "cells": [
  {
   "cell_type": "code",
   "execution_count": 2,
   "id": "99f3ee48",
   "metadata": {},
   "outputs": [
    {
     "name": "stdout",
     "output_type": "stream",
     "text": [
      "Requirement already satisfied: mysql-connector-python in c:\\users\\user\\anaconda3\\lib\\site-packages (8.0.31)\n",
      "Requirement already satisfied: protobuf<=3.20.1,>=3.11.0 in c:\\users\\user\\anaconda3\\lib\\site-packages (from mysql-connector-python) (3.19.1)\n"
     ]
    }
   ],
   "source": [
    "!pip install mysql-connector-python\n",
    "\n"
   ]
  },
  {
   "cell_type": "code",
   "execution_count": 18,
   "id": "6714d85c",
   "metadata": {},
   "outputs": [],
   "source": [
    "import mysql.connector\n",
    "\n",
    "conexao = mysql.connector.connect(\n",
    "    host='localhost',\n",
    "    user='root',\n",
    "    password='@Mncm231415',\n",
    "    database='bdhashtag',\n",
    ")\n",
    "cursor = conexao.cursor()\n",
    "\n",
    "\n",
    "# CRUD\n",
    "nome_produto = \"todynho\"\n",
    "comando = f'DELETE FROM vendas WHERE nome_produto = \"{nome_produto}\"'\n",
    "cursor.execute(comando)\n",
    "conexao.commit() # edita o banco de dados\n",
    "\n",
    "# CREATE\n",
    "# nome_produto = \"chocolate\"\n",
    "# valor = 15\n",
    "# comando = f'INSERT INTO vendas (nome_produto, valor) VALUES (\"{nome_produto}\", {valor})'\n",
    "# cursor.execute(comando)\n",
    "# conexao.commit() # edita o banco de dados\n",
    "\n",
    "# READ\n",
    "# comando = f'SELECT * FROM vendas'\n",
    "# cursor.execute(comando)\n",
    "# resultado = cursor.fetchall() # ler o banco de dados\n",
    "# print(resultado)\n",
    "\n",
    "\n",
    "# UPDATE\n",
    "# nome_produto = \"todynho\"\n",
    "# valor = 6\n",
    "# comando = f'UPDATE vendas SET valor = {valor} WHERE nome_produto = \"{nome_produto}\"'\n",
    "# cursor.execute(comando)\n",
    "# conexao.commit() # edita o banco de dados\n",
    "\n",
    "# DELETE\n",
    "# nome_produto = \"todynho\"\n",
    "# comando = f'DELETE FROM vendas WHERE nome_produto = \"{nome_produto}\"'\n",
    "# cursor.execute(comando)\n",
    "# conexao.commit() # edita o banco de dados\n",
    "\n",
    "\n",
    "cursor.close()\n",
    "conexao.close()"
   ]
  },
  {
   "cell_type": "code",
   "execution_count": 15,
   "id": "813f39b1",
   "metadata": {},
   "outputs": [],
   "source": []
  },
  {
   "cell_type": "code",
   "execution_count": null,
   "id": "640f5949",
   "metadata": {},
   "outputs": [],
   "source": [
    "\n",
    "\n",
    "\n"
   ]
  }
 ],
 "metadata": {
  "kernelspec": {
   "display_name": "Python 3 (ipykernel)",
   "language": "python",
   "name": "python3"
  },
  "language_info": {
   "codemirror_mode": {
    "name": "ipython",
    "version": 3
   },
   "file_extension": ".py",
   "mimetype": "text/x-python",
   "name": "python",
   "nbconvert_exporter": "python",
   "pygments_lexer": "ipython3",
   "version": "3.9.12"
  }
 },
 "nbformat": 4,
 "nbformat_minor": 5
}
