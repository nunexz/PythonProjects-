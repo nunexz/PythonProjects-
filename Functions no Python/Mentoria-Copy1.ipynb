{
 "cells": [
  {
   "cell_type": "markdown",
   "id": "a2fee89b",
   "metadata": {},
   "source": [
    "### Forma de pensar"
   ]
  },
  {
   "cell_type": "code",
   "execution_count": null,
   "id": "1be9db7d",
   "metadata": {},
   "outputs": [],
   "source": [
    "# coisas simples: atravessar a rua (mostrar os diferentes níveis de abstração que dá para fazer)\n",
    "        #olhar para os dois lados\n",
    "        #andar para o outro lado da rua\n",
    "        \n",
    "\n",
    "# tomar café da manhã (mostrar os diferentes níveis de abstração que dá para fazer)\n",
    "    #ir na padaria\n",
    "    #comprar pão\n",
    "    #chegar em casa\n",
    "    #abrir o portão de casa\n",
    "    #entrar em casa\n",
    "    #fechar o portão\n",
    "    #andar até a cozinha \n",
    "    #tirar o pão da sacola\n",
    "    #pegar um prato\n",
    "    #colocar o pão no prato\n",
    "    #pegar um copo\n",
    "    #pegar o leite\n",
    "    #pegar o Toddy\n",
    "    #Colocar Toddy no leite\n",
    "    #mexer o leite com Toddy\n",
    "    #levar o prato e o copo para a mesa\n",
    "    #sentar na cadeira\n",
    "    #comer o pão e beber o leite\n",
    "\n",
    "\n",
    "# Shampoo (pegar um shampoo aqui de casa e ler)abs\n",
    "    #Aplique no cabelo molhado\n",
    "    #massageie\n",
    "    #enxague\n",
    "    #repita"
   ]
  },
  {
   "cell_type": "markdown",
   "id": "672e10e0",
   "metadata": {},
   "source": [
    "### Exemplo de Exercício do Curso"
   ]
  },
  {
   "cell_type": "markdown",
   "id": "fee80189",
   "metadata": {},
   "source": [
    "#### 23. Faça um Programa para uma loja de tintas. O programa deverá pedir o tamanho em metros quadrados da área a ser pintada. Considere que a cobertura da tinta é de 1 litro para cada 6 metros quadrados e que a tinta é vendida em latas de 18 litros, que custam R\\\\$ 80,00 ou em galões de 3,6 litros, que custam R\\\\$ 25,00."
   ]
  },
  {
   "cell_type": "code",
   "execution_count": 7,
   "id": "4499bb83",
   "metadata": {},
   "outputs": [
    {
     "name": "stdout",
     "output_type": "stream",
     "text": [
      "Qual a área a ser pintada? (m²)123\n",
      "Quantidade de latas 1.14\n",
      "Preço 91.11\n"
     ]
    }
   ],
   "source": []
  },
  {
   "cell_type": "markdown",
   "id": "0d5fa10a",
   "metadata": {},
   "source": [
    "##### Informe ao usuário as quantidades de tinta a serem compradas e os respectivos preços em 3 situações.\n",
    "\n",
    "Dica: lembre dos operadores // e % mostrados em exercícios anteriores<br>\n",
    "Dica1: numero // 10 vai te dar como resposta a parte inteira da divisão do número por 10.<br>\n",
    "Dica2: numero % 10 vai te dar o resto da divisão do número por 10.\n",
    "\n",
    "##### 1. Comprar apenas latas de 18 litros: (apenas latas inteiras)"
   ]
  },
  {
   "cell_type": "code",
   "execution_count": 8,
   "id": "bc38cdcd",
   "metadata": {},
   "outputs": [
    {
     "name": "stdout",
     "output_type": "stream",
     "text": [
      "Qual a área a ser pintada? (m²)24\n",
      "Quantidade de latas 1\n",
      "Preço 80\n"
     ]
    }
   ],
   "source": [
    "#calcular quantas latas e quanto custa comprar a tinta\n",
    "    # descobrir a area a ser pintada\n",
    "    # calcular quantos litros de tinta o clinte precisa (area / 6)\n",
    "    # quantas latas eu vou precisar para a quantidade de litros\n",
    "        #calcular quantas latas (litros / 18)\n",
    "        # se deu um número \"quebrado\" de latas\n",
    "            # adiciona 1 lata\n",
    "        #se não\n",
    "            #dê a quantidade de latas\n",
    "    # calcular o preço das latas (Quantidade de latas * R$80)\n",
    "    \n",
    "def pegar_area_usuario():\n",
    "    area = int(input('Qual a área a ser pintada? (m²)'))\n",
    "    return area\n",
    "    \n",
    "def calcular_litros_precisamos(area):\n",
    "    litros = area / 6\n",
    "    return litros\n",
    "\n",
    "def calcular_latas(litros):\n",
    "    latas = litros / 18\n",
    "    if int(latas) != latas:\n",
    "        latas = int(latas) + 1\n",
    "    return latas\n",
    "\n",
    "def calcular_preco_latas(latas):\n",
    "    preco = latas * 80\n",
    "    return preco\n",
    "    \n",
    "\n",
    "\n",
    "area = pegar_area_usuario()\n",
    "litros = calcular_litros_precisamos(area)\n",
    "latas = calcular_latas(litros)\n",
    "preco = calcular_preco(latas)\n",
    "\n",
    "\n",
    "\n",
    "print(f\"Quantidade de latas {latas}\")\n",
    "print(f\"Preço {preco}\")\n"
   ]
  },
  {
   "cell_type": "markdown",
   "id": "15dc7322",
   "metadata": {},
   "source": [
    "##### 2. Comprar apenas galões de 3,6 litros: (apenas galoes inteiros)"
   ]
  },
  {
   "cell_type": "code",
   "execution_count": 17,
   "id": "6e0a01af",
   "metadata": {},
   "outputs": [
    {
     "name": "stdout",
     "output_type": "stream",
     "text": [
      "Qual a área a ser pintada? (m²)24\n",
      "Quantidade galões:  2\n",
      "preço:  50\n"
     ]
    }
   ],
   "source": [
    "#calcular o preço e a quantidade de galoes para comprar\n",
    "    # saber a área do cliente\n",
    "    #calcular a quantidade de tinta (area / 6)\n",
    "    # calcular a quantidade de galoes (arredondando para cima) -> litros / 3,6\n",
    "        #verifico se a quantidade de galoes vai ser uma divisão inteira\n",
    "            #caso não seja:\n",
    "                #galoes vai ser a parte inteira da divisão + 1\n",
    "            #caso seja:\n",
    "                # galões vai ser a divisão de litros por 3,6\n",
    "\n",
    "def calculo_galoes(litros):\n",
    "    if litros % 3.6 > 0:\n",
    "        galoes = int(litros / 3.6) +1\n",
    "    else:\n",
    "        galoes = litros / 3.6\n",
    "    return galoes\n",
    "\n",
    "\n",
    "def calcular_preco_galoes(galoes):\n",
    "    preco_galao = galoes * 25\n",
    "    return preco_galao\n",
    "\n",
    "area = pegar_area_usuario()\n",
    "litros = calcular_litros_precisamos(area)\n",
    "\n",
    "print(\"Quantidade galões: \", calculo_galoes(litros))\n",
    "print(\"preço: \", calcular_preco_galoes(galoes))"
   ]
  },
  {
   "cell_type": "markdown",
   "id": "35e0aa11",
   "metadata": {},
   "source": [
    "##### 3. Misturar latas e galões, de forma que o desperdício de tinta seja menor. Sempre arredonde os valores para cima, isto é, considere latas cheias."
   ]
  },
  {
   "cell_type": "markdown",
   "id": "95a3d342",
   "metadata": {},
   "source": [
    "O custo da lata é 80/18 = 4,44 R\\\\$/L\n",
    "\n",
    "O custo do galão é 25/3,6 = 6,94 R\\\\$/L\n",
    "\n",
    "A lata é mais econômica, então todas as latas inteiras que pudermos usar devemos comprar em latas. Se ficar faltando alguma coisa para completar devemos avaliar se é melhor comprar latas ou galões. Exemplo:\n",
    "\n",
    "Se queremos comprar 90 litros. 5 latas dão exatamente 90 litros. Então devemos comprar tudo em latas.\n",
    "\n",
    "Se queremos comprar 95 litros. 5 latas dão exatamente 90 litros. Então devemos comprar pelo menos 5 latas e avaliar o que falta, se estes últimos 5 litros valem mais apenas em latas ou galões.\n",
    "\n",
    "Para os 5 litros faltantes precisamos de 2 galões que custam 50 reais no total. Ou de uma lata que custa 80 reais no total. Portanto, neste caso vale mais a pena usar 2 galões.\n",
    "\n",
    "Se queremos comprar 107 litros. 5 latas dão exatamente 90 litros. Então devemos comprar pelo menos 5 latas e avaliar o que falta, se estes últimos 5 litros valem mais apenas em latas ou galões.\n",
    "\n",
    "Para os 17 litros faltantes precisamos de 5 galões que custam 125 reais no total. Ou de uma lata que custa 80 reais no total. Portanto, neste caso vale mais a pena usar uma lata.\n",
    "\n",
    "3 galões custam 75 reais, 4 galões custam 100 reais. Então, se for possível completar com até 3 galões escolhe-se galões. Qualquer quantidade maior que 3 galões, usa-se latas.\n",
    "\n",
    "Podemos ir ao exercício:"
   ]
  },
  {
   "cell_type": "code",
   "execution_count": 7,
   "id": "0e9847d9",
   "metadata": {},
   "outputs": [
    {
     "name": "stdout",
     "output_type": "stream",
     "text": [
      "Qual a área a ser pintada (m²):24\n",
      "Latas:  0\n",
      "Galões:  2\n",
      "Preço final:  50\n"
     ]
    }
   ],
   "source": [
    "#calcular o meno preço possível de latas e galoes para pintar uma parede\n",
    "    # descobrir a área a ser pintada (pegar input do usuáiro)\n",
    "area = pegar_area_usuario()\n",
    "litros = calcular_litros_precisamos(area)\n",
    "    # calcular quantos litros vamos precisar (area / 6)\n",
    "    # ver quantas latas e galões vamos precisar\n",
    "        #calcular quantas latas inteiras vamos precisar\n",
    "latas = int(litros / 18)\n",
    "        #quanto vai sobrar de litros de tinta\n",
    "litros_faltam = litros % 18\n",
    "        # se sobrar tinta:\n",
    "if litros_faltam > 0:\n",
    "        #quantos galões vamos precisar para essa sobra\n",
    "    if litros_faltam % 3.6 > 0:\n",
    "        galoes = int(litros_faltam / 3.6) + 1\n",
    "    else:\n",
    "        galoes = litros_faltam / 3.6\n",
    "    # calcular o preço\n",
    "        #qtde_latas_inteiras * 80\n",
    "preco_latas = latas * 80\n",
    "        # se qtde_galoes * 25 > 80\n",
    "preco_galoes = galoes * 25\n",
    "if preco_galoes > 80:\n",
    "    latas = latas + 1\n",
    "    preco_latas = latas * 80\n",
    "    galoes = 0\n",
    "    preco_galoes = 0\n",
    "            # preço anterior + 80\n",
    "       # caso contrario\n",
    "            #preço anterior + qtde_galoes * 25\n",
    "\n",
    "preco_final = preco_latas + preco_galoes\n",
    "print(\"Latas: \", latas)\n",
    "print(\"Galões: \", galoes)\n",
    "print(\"Preço final: \", preco_final)"
   ]
  },
  {
   "cell_type": "code",
   "execution_count": null,
   "id": "c51c27c5",
   "metadata": {},
   "outputs": [],
   "source": []
  },
  {
   "cell_type": "code",
   "execution_count": null,
   "id": "a2d93b96",
   "metadata": {},
   "outputs": [],
   "source": [
    "#enviar um relatório com as vendas do dia anterior para o meu chefe às 09h da manhã\n",
    "    #pegar uma base de dados com as vendas do dia anterior\n",
    "        #entrar no sistema\n",
    "        # navegar até o local da base de dados\n",
    "        # exportar a base de dados\n",
    "    #calcular as vendas do dia anterior\n",
    "        #importar a base de dados para o python\n",
    "        #consolidar as vendas\n",
    "        #calcular o indicador de vendas\n",
    "    #enviar um e-mail para o meu chefe\n",
    "        #entrar no e-mail\n",
    "            #abrir o navegador\n",
    "            #digitar gmail.com na barra de navegação\n",
    "            # dar enter\n",
    "        #criar um novo e-mail\n",
    "        #preencher com as informações de vendas\n",
    "        #enviar o e-mail"
   ]
  }
 ],
 "metadata": {
  "kernelspec": {
   "display_name": "Python 3 (ipykernel)",
   "language": "python",
   "name": "python3"
  },
  "language_info": {
   "codemirror_mode": {
    "name": "ipython",
    "version": 3
   },
   "file_extension": ".py",
   "mimetype": "text/x-python",
   "name": "python",
   "nbconvert_exporter": "python",
   "pygments_lexer": "ipython3",
   "version": "3.9.12"
  }
 },
 "nbformat": 4,
 "nbformat_minor": 5
}
