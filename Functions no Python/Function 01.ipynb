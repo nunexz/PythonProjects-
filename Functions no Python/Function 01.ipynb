{
 "cells": [
  {
   "cell_type": "markdown",
   "metadata": {},
   "source": [
    "# Function Python\n",
    "\n",
    "### O que é?\n",
    "\n",
    "As functions são blocos de código que servem 1 único propósito, fazem uma ação específica.\n",
    "\n",
    "### Estrutura Básica"
   ]
  },
  {
   "cell_type": "raw",
   "metadata": {},
   "source": [
    "def nome_funcao():\n",
    "    faça alguma coisa\n",
    "    faça outra coisa\n",
    "    return valor_final"
   ]
  },
  {
   "cell_type": "markdown",
   "metadata": {},
   "source": [
    "- Exemplo: vamos criar uma função de cadastro de um Produto. Essa função deve garantir que o produto cadastrado está em letra minúscula."
   ]
  },
  {
   "cell_type": "code",
   "execution_count": 6,
   "metadata": {},
   "outputs": [
    {
     "name": "stdout",
     "output_type": "stream",
     "text": [
      "Digite o nome do produto que deseja cadastrar: COCA CoLA\n",
      "O produto coca cola foi cadastrado com sucesso\n",
      "Digite o nome do produto que deseja cadastrar: AMEIXinha\n",
      "O produto ameixinha foi cadastrado com sucesso\n"
     ]
    }
   ],
   "source": [
    "#Criar function\n",
    "def cadastrar_produto():\n",
    "    produto = input(\"Digite o nome do produto que deseja cadastrar: \")\n",
    "    produto = produto.casefold()\n",
    "    print(f\"O produto {produto} foi cadastrado com sucesso\")\n",
    "#usuário cadastra o produto\n",
    "\n",
    "\n",
    "#exemplo de utilização da function\n",
    "\n",
    "#exemplo com for ativando a function 2x no range\n",
    "for i in range(2):\n",
    "    cadastrar_produto()"
   ]
  }
 ],
 "metadata": {
  "kernelspec": {
   "display_name": "Python 3 (ipykernel)",
   "language": "python",
   "name": "python3"
  },
  "language_info": {
   "codemirror_mode": {
    "name": "ipython",
    "version": 3
   },
   "file_extension": ".py",
   "mimetype": "text/x-python",
   "name": "python",
   "nbconvert_exporter": "python",
   "pygments_lexer": "ipython3",
   "version": "3.9.12"
  }
 },
 "nbformat": 4,
 "nbformat_minor": 4
}
