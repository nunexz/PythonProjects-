{
 "cells": [
  {
   "cell_type": "markdown",
   "metadata": {},
   "source": [
    "# Valores Padrões para os argumentos\n",
    "\n",
    "### Estrutura\n",
    "\n",
    "- Nesse caso, você não é obrigado a passar o valor para usar a função, pode usar o valor padrão."
   ]
  },
  {
   "cell_type": "raw",
   "metadata": {},
   "source": [
    "def minha_funcao(argumento = valor_padrao):\n",
    "    ...\n",
    "    return ..."
   ]
  },
  {
   "cell_type": "markdown",
   "metadata": {},
   "source": [
    "- Como vimos, o sort() para listas tem um argumento padrão. O reverse = False é padrão, então a ordem é crescente. Caso o usuário queira fazer em ordem decrescente, o reverse deve ser alterado para True"
   ]
  },
  {
   "cell_type": "code",
   "execution_count": 2,
   "metadata": {},
   "outputs": [
    {
     "name": "stdout",
     "output_type": "stream",
     "text": [
      "['airpods', 'apple tv', 'apple watch', 'iPad', 'iphone x', 'mac', 'mac book']\n",
      "['mac book', 'mac', 'iphone x', 'iPad', 'apple watch', 'apple tv', 'airpods']\n"
     ]
    }
   ],
   "source": [
    "produtos = ['apple tv', 'mac', 'iphone x', 'iPad', 'apple watch', 'mac book', 'airpods']\n",
    "\n",
    "produtos.sort() #ordem crescente\n",
    "print(produtos)\n",
    "\n",
    "produtos.sort(reverse = True) #ordem decrescente\n",
    "print(produtos)"
   ]
  },
  {
   "cell_type": "markdown",
   "metadata": {},
   "source": [
    "- Vamos criar uma função que padronize códigos de produtos. O default será padronizar os códigos para letras minúsculas (dado por 'm'), mas se o usuário quiser pode padronizar para maiúscula, dado por ('M')."
   ]
  },
  {
   "cell_type": "code",
   "execution_count": 8,
   "metadata": {},
   "outputs": [
    {
     "name": "stdout",
     "output_type": "stream",
     "text": [
      "['ABC12', 'ABC34', 'ABC37']\n"
     ]
    }
   ],
   "source": [
    "def padronizar_codigos(lista_codigos, padrao='f'):\n",
    "    for i, item in enumerate(lista_codigos):\n",
    "        item = item.replace('  ', ' ')\n",
    "        item = item.strip()\n",
    "        if padrao == 'f':\n",
    "            item = item.casefold()\n",
    "        elif padrao == 'F':\n",
    "            item = item.upper()\n",
    "        lista_codigos[i] = item\n",
    "    return lista_codigos\n",
    "\n",
    "\n",
    "cod_produtos = [' ABC12 ', 'abc34', 'AbC37']\n",
    "print(padronizar_codigos(cod_produtos, padrao = 'F'))\n",
    "\n"
   ]
  }
 ],
 "metadata": {
  "kernelspec": {
   "display_name": "Python 3 (ipykernel)",
   "language": "python",
   "name": "python3"
  },
  "language_info": {
   "codemirror_mode": {
    "name": "ipython",
    "version": 3
   },
   "file_extension": ".py",
   "mimetype": "text/x-python",
   "name": "python",
   "nbconvert_exporter": "python",
   "pygments_lexer": "ipython3",
   "version": "3.9.12"
  }
 },
 "nbformat": 4,
 "nbformat_minor": 4
}
