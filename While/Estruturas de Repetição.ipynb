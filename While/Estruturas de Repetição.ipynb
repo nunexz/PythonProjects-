{
 "cells": [
  {
   "cell_type": "markdown",
   "id": "ac60394f",
   "metadata": {},
   "source": [
    "# Estruturas de repetição\n",
    "\n",
    "<span style=\"color: red;\"><b>Todos os exercícios são feitos partindo-se do pressuposto de que todas as entradas são dadas de forma correta. Casos limite não mencionados no enunciado não são abordados porque não fazem parte do exercício.</b></span>"
   ]
  },
  {
   "cell_type": "markdown",
   "id": "017affd0",
   "metadata": {},
   "source": [
    "#### 1. Faça um programa que peça uma nota, entre zero e dez. Mostre uma mensagem caso o valor seja inválido e continue pedindo até que o usuário informe um valor válido."
   ]
  },
  {
   "cell_type": "code",
   "execution_count": null,
   "id": "5f12870d",
   "metadata": {},
   "outputs": [],
   "source": [
    "nota = float(input('Informe uma nota entre 0 e 10: '))\n",
    "while not (0 <= nota <= 10):\n",
    "    print('Nota inválida')\n",
    "    nota = float(input('Informe uma nota entre 0 e 10: '))"
   ]
  },
  {
   "cell_type": "markdown",
   "id": "dd0c6d56",
   "metadata": {},
   "source": [
    "#### 2. Faça um programa que leia um nome de usuário e a sua senha e não aceite a senha igual ao nome do usuário, mostrando uma mensagem de erro e voltando a pedir as informações."
   ]
  },
  {
   "cell_type": "code",
   "execution_count": null,
   "id": "f6579866",
   "metadata": {},
   "outputs": [],
   "source": [
    "login = input('Informe o login: ')\n",
    "senha = input('Informe o senha: ')\n",
    "while login == senha:\n",
    "    print('O login não pode ser igual à senha')\n",
    "    login = input('Informe o login: ')\n",
    "    senha = input('Informe o senha: ')"
   ]
  },
  {
   "cell_type": "markdown",
   "id": "ed113a82",
   "metadata": {},
   "source": [
    "#### 3. Faça um programa que leia e valide as seguintes informações (e para cada uma delas, continue pedindo a informação até o usuário inserir corretamente):\n",
    "##### Nome: maior que 3 caracteres;\n",
    "##### Idade: entre 0 e 150;\n",
    "##### Salário: maior que zero;\n",
    "##### Sexo: 'f' ou 'm';\n",
    "##### Estado Civil: 's', 'c', 'v', 'd';"
   ]
  },
  {
   "cell_type": "code",
   "execution_count": null,
   "id": "3284f187",
   "metadata": {},
   "outputs": [],
   "source": [
    "nome = input('Informe o nome: ')\n",
    "\n",
    "while len(nome) < 4:\n",
    "    print('Insira um nome com mais de 3 caracteres')\n",
    "    nome = input('Informe o nome: ')\n",
    "    \n",
    "idade = int(input('Informe a idade: '))\n",
    "\n",
    "while not (0 <= idade <= 150):\n",
    "    print('Insira uma idade entre 0 e 150 anos')\n",
    "    idade = int(input('Informe a idade: '))\n",
    "    \n",
    "salario = float(input('Informe o salário: '))\n",
    "\n",
    "while salario <= 0:\n",
    "    print('Insira um salário maior que zero')\n",
    "    salario = float(input('Informe o salário: '))\n",
    "    \n",
    "genero = input('Informe o gênero \"f\" para feminino ou \"m\" para masculino: ')\n",
    "\n",
    "while not genero in ['f', 'm']:\n",
    "    print('Insira um gênero válido')\n",
    "    genero = input('Informe o gênero \"f\" para feminino ou \"m\" para masculino: ')\n",
    "    \n",
    "estado_civil = input('Informe o estado civil \"s\", \"c\", \"v\" ou \"d\": ')\n",
    "\n",
    "while not estado_civil in ['s', 'c', 'v', 'd']:\n",
    "    print('Insira um estado civil válido')\n",
    "    estado_civil = input('Informe o estado civil \"s\", \"c\", \"v\" ou \"d\": ')"
   ]
  },
  {
   "cell_type": "markdown",
   "id": "2f25dceb",
   "metadata": {},
   "source": [
    "#### 4. Supondo que a população de um país A seja da ordem de 80000 habitantes com uma taxa anual de crescimento de 3% e que a população de B seja 200000 habitantes com uma taxa de crescimento de 1.5%. Faça um programa que calcule e escreva o número de anos necessários para que a população do país A ultrapasse ou iguale a população do país B, mantidas as taxas de crescimento."
   ]
  },
  {
   "cell_type": "code",
   "execution_count": null,
   "id": "7ad0f5e9",
   "metadata": {},
   "outputs": [],
   "source": [
    "populacao_A = 80000\n",
    "populacao_B = 200000\n",
    "\n",
    "tempo = 0\n",
    "\n",
    "while populacao_A < populacao_B:\n",
    "    populacao_A *= 1.03\n",
    "    populacao_B *= 1.015\n",
    "    tempo += 1\n",
    "\n",
    "print('São necessários', tempo, 'anos para a população A igualar ou superar a população B')"
   ]
  },
  {
   "cell_type": "markdown",
   "id": "e9626858",
   "metadata": {},
   "source": [
    "#### 5. Altere o programa anterior permitindo ao usuário informar as populações e as taxas de crescimento iniciais. Valide a entrada e permita repetir a operação."
   ]
  },
  {
   "cell_type": "code",
   "execution_count": null,
   "id": "c7e250a4",
   "metadata": {},
   "outputs": [],
   "source": [
    "repete = 's'\n",
    "\n",
    "while repete == 's':\n",
    "\n",
    "    populacao_A = int(input('Informe a população A: '))\n",
    "    populacao_B = int(input('Informe a população B: '))\n",
    "\n",
    "    while populacao_A <= 0 or populacao_B <= 0:\n",
    "        print('As populações precisam ser maiores que zero')\n",
    "        populacao_A = int(input('Informe a população A: '))\n",
    "        populacao_B = int(input('Informe a população B: '))\n",
    "\n",
    "    taxa_A = float(input('Informe a taxa de crescimento da população A em porcentagem (exemplo: entre 3 para 3%): '))\n",
    "    taxa_B = float(input('Informe a taxa de crescimento da população A em porcentagem (exemplo: entre 3 para 3%): '))\n",
    "\n",
    "    while taxa_A <= 0 or taxa_B <= 0:\n",
    "        print('As taxas precisam ser maiores que zero')\n",
    "        taxa_A = float(input('Informe a taxa de crescimento da população A em porcentagem (exemplo: entre 3 para 3%): '))\n",
    "        taxa_B = float(input('Informe a taxa de crescimento da população A em porcentagem (exemplo: entre 3 para 3%): '))\n",
    "\n",
    "    taxa_A = taxa_A / 100 + 1\n",
    "    taxa_B = taxa_B / 100 + 1\n",
    "\n",
    "    tempo = 0\n",
    "\n",
    "    while populacao_A < populacao_B:\n",
    "        populacao_A *= taxa_A\n",
    "        populacao_B *= taxa_B\n",
    "        tempo += 1\n",
    "\n",
    "    print('São necessários', tempo, 'anos para a população A igualar ou superar a população B')\n",
    "    \n",
    "    repete = input('Deseja repetir a operação? Tecle \"s\" para sim, qualquer outra tecla para não.')"
   ]
  },
  {
   "cell_type": "markdown",
   "id": "b3d268b5",
   "metadata": {},
   "source": [
    "#### 6. Faça um programa que peça para o usuário inserir o faturamento dos últimos 5 meses (individualmente) e informe o maior faturamento"
   ]
  },
  {
   "cell_type": "code",
   "execution_count": 7,
   "id": "8078e7a5",
   "metadata": {},
   "outputs": [
    {
     "name": "stdout",
     "output_type": "stream",
     "text": [
      "Informe o faturamento do mês:1500\n",
      "Informe o faturamento do mês:2\n",
      "Informe o faturamento do mês:1\n",
      "Informe o faturamento do mês:5\n",
      "Informe o faturamento do mês:6\n",
      "1500.0 é o maior faturamento\n"
     ]
    }
   ],
   "source": [
    "for i in range(5): \n",
    "    novo_numero = float(input('Informe o faturamento do mês:'))\n",
    "    if i == 0:\n",
    "        maior = novo_numero\n",
    "    else:\n",
    "        if novo_numero > maior:\n",
    "            maior = novo_numero\n",
    "\n",
    "print(maior, 'é o maior faturamento')"
   ]
  },
  {
   "cell_type": "markdown",
   "id": "6407824c",
   "metadata": {},
   "source": [
    "#### 7. Faça um programa que peça para o usuário inserir o faturamento dos últimos 5 meses (individualmente) e informe o faturamento total (soma) e o faturamento médio por mês (média)."
   ]
  },
  {
   "cell_type": "code",
   "execution_count": 2,
   "id": "a02320d1",
   "metadata": {},
   "outputs": [
    {
     "name": "stdout",
     "output_type": "stream",
     "text": [
      "Informe o faturamento do mês:1500\n",
      "Informe o faturamento do mês:10000\n",
      "Informe o faturamento do mês:20000\n",
      "Informe o faturamento do mês:35000\n",
      "Informe o faturamento do mês:100000\n",
      "Faturamento total: 166500.0\n",
      "Faturamento médio mensal: 33300.0\n"
     ]
    }
   ],
   "source": [
    "total = 0\n",
    "\n",
    "for i in range(5):\n",
    "    numero = float(input('Informe o faturamento do mês:'))\n",
    "    total += numero\n",
    "    \n",
    "print('Faturamento total:', total)\n",
    "print('Faturamento médio mensal:', total/5)"
   ]
  },
  {
   "cell_type": "markdown",
   "id": "703f3c4d",
   "metadata": {},
   "source": [
    "#### 8. Faça um programa que consiga categorizar a idade das equipes de uma empresa. Faça um programa que peça para n pessoas a sua idade, ao final o programa devera verificar se a média de idade da equipe varia entre 0 e 25 (jovem) ,26 e 60 (sênior) e maior que 60 (idosa); e então, dizer se a equipe é jovem, sênior ou idosa, conforme a média calculada."
   ]
  },
  {
   "cell_type": "code",
   "execution_count": null,
   "id": "b56a85de",
   "metadata": {},
   "outputs": [],
   "source": [
    "qtde = int(input(f'Informe quantas pessoas serão: '))\n",
    "\n",
    "total = 0\n",
    "\n",
    "for i in range(qtde):\n",
    "    idade = float(input(f'Informe a {i+1}ª idade: '))\n",
    "    total += idade\n",
    "\n",
    "media = total/qtde\n",
    "\n",
    "if 0 <= media <= 25:\n",
    "    print('A equipe é jovem')\n",
    "elif 25 < media <= 60:\n",
    "    print('A equipe é adulta')\n",
    "elif 60 < media:\n",
    "    print('A equipe é idosa')"
   ]
  },
  {
   "cell_type": "markdown",
   "id": "aad21b98",
   "metadata": {},
   "source": [
    "#### 9. Numa eleição existem três candidatos. Faça um programa que peça o número total de eleitores. Peça para cada eleitor votar e ao final mostrar o número de votos de cada candidato."
   ]
  },
  {
   "cell_type": "code",
   "execution_count": null,
   "id": "84aa7a93",
   "metadata": {},
   "outputs": [],
   "source": [
    "qtde = int(input(f'Informe a quantidade de eleitores: '))\n",
    "\n",
    "candidato1 = 0\n",
    "candidato2 = 0\n",
    "candidato3 = 0\n",
    "\n",
    "for i in range(qtde):\n",
    "    candidato = int(input(f'Informe o voto do primeiro eleitor {i+1}. O eleitor pode votar nos candidatos 1, 2 ou 3: '))\n",
    "    if candidato == 1:\n",
    "        candidato1 += 1\n",
    "    elif candidato == 2:\n",
    "        candidato2 += 1\n",
    "    elif candidato == 3:\n",
    "        candidato3 += 1\n",
    "        \n",
    "print('Votos do candidato 1:', candidato1)\n",
    "print('Votos do candidato 2:', candidato2)\n",
    "print('Votos do candidato 3:', candidato3)"
   ]
  },
  {
   "cell_type": "markdown",
   "id": "6e306453",
   "metadata": {},
   "source": [
    "#### 10. Faça um programa que calcule o valor total investido por um colecionador em sua coleção de CDs e o valor médio gasto em cada um deles. O usuário deverá informar a quantidade de CDs e o valor para em cada um."
   ]
  },
  {
   "cell_type": "code",
   "execution_count": null,
   "id": "6b7fa4a2",
   "metadata": {},
   "outputs": [],
   "source": [
    "qtde = int(input(f'Informe a quatidade de CDs: '))\n",
    "total = 0\n",
    "\n",
    "for i in range(qtde):\n",
    "    valor = int(input(f'Informe o preço do {i+1}º CD: '))\n",
    "    total += valor\n",
    "\n",
    "print(f'A média é de R$ {total/qtde} por CD')"
   ]
  },
  {
   "cell_type": "markdown",
   "id": "f19c8d86",
   "metadata": {},
   "source": [
    "#### 11. O Sr. Manoel Joaquim possui uma grande loja de artigos de R\\\\$ 1,99, com cerca de 10 caixas. Para agilizar o cálculo de quanto cada cliente deve pagar ele desenvolveu um tabela que contém o número de itens que o cliente comprou e ao lado o valor da conta. Desta forma a atendente do caixa precisa apenas contar quantos itens o cliente está levando e olhar na tabela de preços. Você foi contratado para desenvolver o programa que monta esta tabela de preços, que conterá os preços de 1 até 50 produtos, conforme o exemplo abaixo:\n",
    "<pre>\n",
    "Lojas Quase Dois - Tabela de preços\n",
    "1 - R$ 1.99\n",
    "2 - R$ 3.98\n",
    "...\n",
    "50 - R$ 99.50\n",
    "</pre>"
   ]
  },
  {
   "cell_type": "code",
   "execution_count": 6,
   "id": "4fc4d54d",
   "metadata": {},
   "outputs": [
    {
     "name": "stdout",
     "output_type": "stream",
     "text": [
      "Lojas Quase Dois - Tabela de preços\n",
      "1 - R$ 1.99\n",
      "2 - R$ 3.98\n",
      "3 - R$ 5.97\n",
      "4 - R$ 7.96\n",
      "5 - R$ 9.95\n",
      "6 - R$ 11.94\n",
      "7 - R$ 13.93\n",
      "8 - R$ 15.92\n",
      "9 - R$ 17.91\n",
      "10 - R$ 19.90\n",
      "11 - R$ 21.89\n",
      "12 - R$ 23.88\n",
      "13 - R$ 25.87\n",
      "14 - R$ 27.86\n",
      "15 - R$ 29.85\n",
      "16 - R$ 31.84\n",
      "17 - R$ 33.83\n",
      "18 - R$ 35.82\n",
      "19 - R$ 37.81\n",
      "20 - R$ 39.80\n",
      "21 - R$ 41.79\n",
      "22 - R$ 43.78\n",
      "23 - R$ 45.77\n",
      "24 - R$ 47.76\n",
      "25 - R$ 49.75\n",
      "26 - R$ 51.74\n",
      "27 - R$ 53.73\n",
      "28 - R$ 55.72\n",
      "29 - R$ 57.71\n",
      "30 - R$ 59.70\n",
      "31 - R$ 61.69\n",
      "32 - R$ 63.68\n",
      "33 - R$ 65.67\n",
      "34 - R$ 67.66\n",
      "35 - R$ 69.65\n",
      "36 - R$ 71.64\n",
      "37 - R$ 73.63\n",
      "38 - R$ 75.62\n",
      "39 - R$ 77.61\n",
      "40 - R$ 79.60\n",
      "41 - R$ 81.59\n",
      "42 - R$ 83.58\n",
      "43 - R$ 85.57\n",
      "44 - R$ 87.56\n",
      "45 - R$ 89.55\n",
      "46 - R$ 91.54\n",
      "47 - R$ 93.53\n",
      "48 - R$ 95.52\n",
      "49 - R$ 97.51\n",
      "50 - R$ 99.50\n"
     ]
    }
   ],
   "source": [
    "print('Lojas Quase Dois - Tabela de preços')\n",
    "for i in range(50):\n",
    "    print(f'{i+1} - R$ {(i+1)*1.99:.2f}')"
   ]
  },
  {
   "cell_type": "markdown",
   "id": "6cd19c52",
   "metadata": {},
   "source": [
    "#### 12. Um funcionário de uma empresa recebe aumento salarial anualmente: Sabe-se que:\n",
    "<pre>\n",
    "Esse funcionário foi contratado em 1995, com salário inicial de R$ 1.000,00;\n",
    "Em 1996 recebeu aumento de 1,5% sobre seu salário inicial;\n",
    "A partir de 1997 (inclusive), os aumentos salariais sempre correspondem ao dobro do percentual do ano anterior. Faça um programa que determine o salário desse funcionário em 2003. \n",
    "</pre>"
   ]
  },
  {
   "cell_type": "code",
   "execution_count": null,
   "id": "98a4811b",
   "metadata": {},
   "outputs": [],
   "source": [
    "salario = 1000 * 1.015\n",
    "porcentagem = 0.015\n",
    "\n",
    "for i in range(1997, 2004):\n",
    "    porcentagem *= 2\n",
    "    salario *= (1 + porcentagem)\n",
    "\n",
    "print('O salário em 2003 era R$ {:.2f}'.format(salario))"
   ]
  },
  {
   "cell_type": "markdown",
   "id": "227928d1",
   "metadata": {},
   "source": [
    "#### 13. O cardápio de uma lanchonete é o seguinte:\n",
    "<pre>\n",
    "Especificação   Código  Preço\n",
    "Cachorro Quente 100     R$ 1,20\n",
    "Bauru Simples   101     R$ 1,30\n",
    "Bauru com ovo   102     R$ 1,50\n",
    "Hambúrguer      103     R$ 1,20\n",
    "Cheeseburguer   104     R$ 1,30\n",
    "Refrigerante    105     R$ 1,00\n",
    "Faça um programa que leia o código dos itens pedidos e as quantidades desejadas. Calcule e mostre o valor a ser pago por item (preço * quantidade) e o total geral do pedido. Considere que o cliente deve informar quando o pedido deve ser encerrado.\n",
    "</pre>"
   ]
  },
  {
   "cell_type": "code",
   "execution_count": null,
   "id": "8a784b86",
   "metadata": {},
   "outputs": [],
   "source": [
    "total = 0\n",
    "codigo = input('Informe o código do produto, caso deseje encerrar digite \"encerrar\": ')\n",
    "while codigo != 'encerrar':\n",
    "    qtde = int(input('Informe a quantidade: '))\n",
    "    if codigo == '100':\n",
    "        total += 1.2 * qtde\n",
    "    elif codigo == '101':\n",
    "        total += 1.3 * qtde\n",
    "    elif codigo == '102':\n",
    "        total += 1.5 * qtde\n",
    "    elif codigo == '103':\n",
    "        total += 1.2 * qtde\n",
    "    elif codigo == '104':\n",
    "        total += 1.3 * qtde\n",
    "    elif codigo == '105':\n",
    "        total += 1 * qtde\n",
    "        \n",
    "    codigo = input('Informe o código do produto, caso deseje encerrar digite \"encerrar\": ')\n",
    "\n",
    "print('O total a ser pago é: R$ ', total)"
   ]
  },
  {
   "cell_type": "markdown",
   "id": "9877b8ba",
   "metadata": {},
   "source": [
    "#### 14. Uma grande emissora de televisão quer fazer uma enquete entre os seus telespectadores para saber qual o melhor jogador após cada jogo. Para isto, faz-se necessário o desenvolvimento de um programa, que será utilizado pelas telefonistas, para a computação dos votos. Sua equipe foi contratada para desenvolver este programa, utilizando a linguagem de programação Python. Para computar cada voto, a telefonista digitará um número, entre 1 e 23, correspondente ao número da camisa do jogador. Um número de jogador igual zero, indica que a votação foi encerrada. Se um número inválido for digitado, o programa deve ignorá-lo, mostrando uma breve mensagem de aviso, e voltando a pedir outro número. Após o final da votação, o programa deverá exibir:\n",
    "<pre>a. O total de votos computados;\n",
    "b. Os números e respectivos votos de todos os jogadores que receberam votos;\n",
    "c. O percentual de votos de cada um destes jogadores;\n",
    "d. O número do jogador escolhido como o melhor jogador da partida, juntamente com o número de votos e o percentual de votos dados a ele.\n",
    "        Observe que os votos inválidos e o zero final não devem ser computados como votos. O resultado aparece ordenado pelo número do jogador. O programa deve fazer uso de arrays. O programa deverá executar o cálculo do percentual de cada jogador através de uma função. Esta função receberá dois parâmetros: o número de votos de um jogador e o total de votos. A função calculará o percentual e retornará o valor calculado. Abaixo segue uma tela de exemplo. O disposição das informações deve ser o mais próxima possível ao exemplo. Os dados são fictícios e podem mudar a cada execução do programa. Ao final, o programa deve ainda gravar os dados referentes ao resultado da votação em um arquivo texto no disco, obedecendo a mesma disposição apresentada na tela.</pre>\n",
    "```\n",
    "Enquete: Quem foi o melhor jogador?\n",
    "\n",
    "Número do jogador (0=fim): 9\n",
    "Número do jogador (0=fim): 10\n",
    "Número do jogador (0=fim): 9\n",
    "Número do jogador (0=fim): 10\n",
    "Número do jogador (0=fim): 11\n",
    "Número do jogador (0=fim): 10\n",
    "Número do jogador (0=fim): 50\n",
    "Informe um valor entre 1 e 23 ou 0 para sair!\n",
    "Número do jogador (0=fim): 9\n",
    "Número do jogador (0=fim): 9\n",
    "Número do jogador (0=fim): 0\n",
    "\n",
    "Resultado da votação:\n",
    "\n",
    "Foram computados 8 votos.\n",
    "\n",
    "Jogador Votos           %\n",
    "9               4               50,0%\n",
    "10              3               37,5%\n",
    "11              1               12,5%\n",
    "``` "
   ]
  },
  {
   "cell_type": "code",
   "execution_count": null,
   "id": "79b82364",
   "metadata": {},
   "outputs": [],
   "source": [
    "votos = []\n",
    "print('Enquete: Quem foi o melhor jogador?')\n",
    "for i in range(23):\n",
    "    votos.append(0)\n",
    "\n",
    "while True:\n",
    "    numero = int(input('Número do jogador (0=fim): '))\n",
    "    if numero == 0:\n",
    "        break\n",
    "    elif not 1 <= numero <= 23:\n",
    "        print('Informe um valor entre 1 e 23 ou 0 para sair!')\n",
    "        continue\n",
    "    votos[numero - 1] += 1\n",
    "\n",
    "total = sum(votos)\n",
    "print('Foram computados', total, 'votos.')\n",
    "print('Jogador\\tVotos\\t%')\n",
    "for i, voto in enumerate(votos):\n",
    "    if voto > 0:\n",
    "        print(f'{i+1}\\t{voto}\\t{voto/total:.1%}')\n",
    "\n",
    "melhor = max(votos)\n",
    "i = votos.index(melhor)\n",
    "porcentagem = melhor/total\n",
    "print(f'O melhor jogador foi o número {i+1}, com {melhor} votos, correspondendo a {porcentagem:.0%} do total de votos.')"
   ]
  }
 ],
 "metadata": {
  "kernelspec": {
   "display_name": "Python 3 (ipykernel)",
   "language": "python",
   "name": "python3"
  },
  "language_info": {
   "codemirror_mode": {
    "name": "ipython",
    "version": 3
   },
   "file_extension": ".py",
   "mimetype": "text/x-python",
   "name": "python",
   "nbconvert_exporter": "python",
   "pygments_lexer": "ipython3",
   "version": "3.9.7"
  }
 },
 "nbformat": 4,
 "nbformat_minor": 5
}
