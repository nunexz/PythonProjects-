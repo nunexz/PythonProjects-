{
 "cells": [
  {
   "cell_type": "markdown",
   "metadata": {},
   "source": [
    "# Comparações Contraintuitivas\n",
    "\n",
    "Existem algumas comparações no Python que não são tão intuitivas quando vemos pela primeira vez, mas que são muito usadas, principalmente por programadores mais experientes.\n",
    "\n",
    "É bom sabermos alguns exemplos e buscar sempre entender o que aquela comparação está buscando verificar.\n",
    "\n",
    "### Exemplo 1:\n",
    "\n",
    "Digamos que você está construindo um sistema de controle de vendas e precisa de algumas informações para fazer o cálculo do resultado da loja no fim de um mês."
   ]
  },
  {
   "cell_type": "code",
   "execution_count": null,
   "metadata": {},
   "outputs": [],
   "source": [
    "faturamento = input('Qual foi o faturamento da loja nesse mês?')\n",
    "custo = input('Qual foi o custo da loja nesse mês?')\n",
    "\n",
    "if faturamento and custo:\n",
    "    lucro = int(faturamento) - int(custo)\n",
    "    print('O lucro da loja foi de R${}' .format(lucro))\n",
    "    \n",
    "else:\n",
    "    print(\"Preencha corretamente o faturamento e o custo da Loja\")"
   ]
  },
  {
   "cell_type": "markdown",
   "metadata": {},
   "source": [
    "## Resumo\n",
    "\n",
    "Algumas comparações contraintuitivas muito usadas:\n",
    "\n",
    "If 0:\n",
    "\n",
    "If '':\n",
    "\n",
    "Temos outras também, mas que são usadas para verificar listas vazias, dicionários vazios, objetos vazios e assim vai. Quando chegarmos nesses módulos vamos relembrar esse conceito, mas o importante é saber dessa possibilidade e entender seu uso."
   ]
  }
 ],
 "metadata": {
  "kernelspec": {
   "display_name": "Python 3 (ipykernel)",
   "language": "python",
   "name": "python3"
  },
  "language_info": {
   "codemirror_mode": {
    "name": "ipython",
    "version": 3
   },
   "file_extension": ".py",
   "mimetype": "text/x-python",
   "name": "python",
   "nbconvert_exporter": "python",
   "pygments_lexer": "ipython3",
   "version": "3.9.12"
  }
 },
 "nbformat": 4,
 "nbformat_minor": 4
}
