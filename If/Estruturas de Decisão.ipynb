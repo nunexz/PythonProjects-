{
 "cells": [
  {
   "cell_type": "markdown",
   "id": "8535c274",
   "metadata": {},
   "source": [
    "# Estruturas de decisão\n",
    "\n",
    "<span style=\"color: red;\"><b>Todos os exercícios são feitos partindo-se do pressuposto de que todas as entradas são dadas de forma correta. Casos limite não mencionados no enunciado não são abordados porque não fazem parte do exercício.</b></span>"
   ]
  },
  {
   "cell_type": "markdown",
   "id": "9c3d817e",
   "metadata": {},
   "source": [
    "#### 1. Faça um Programa que peça dois números e imprima o maior deles."
   ]
  },
  {
   "cell_type": "code",
   "execution_count": 4,
   "id": "ae45c028",
   "metadata": {},
   "outputs": [
    {
     "name": "stdout",
     "output_type": "stream",
     "text": [
      "Informe o primeiro valor 18919819816519841\n",
      "Informe o segundo valor 968165198198168169\n",
      "o maior valor é 968165198198168169\n"
     ]
    }
   ],
   "source": [
    "valor1 = float(input(\"Informe o primeiro valor \"))\n",
    "valor2 = float(input(\"Informe o segundo valor \"))\n",
    "\n",
    "if valor1 > valor2:\n",
    "    print(f\"o maior valor é {valor1}\")\n",
    "else:\n",
    "    print(f\"o maior valor é {valor2}\")"
   ]
  },
  {
   "cell_type": "markdown",
   "id": "ff510803",
   "metadata": {},
   "source": [
    "#### 2. Faça um Programa que peça um valor e mostre na tela se o valor é positivo ou negativo."
   ]
  },
  {
   "cell_type": "code",
   "execution_count": 7,
   "id": "8952f58f",
   "metadata": {},
   "outputs": [
    {
     "name": "stdout",
     "output_type": "stream",
     "text": [
      "Informe o valor -5\n",
      "o valor -5.0 é negativo\n"
     ]
    }
   ],
   "source": [
    "valor = float(input(\"Informe o valor \"))\n",
    "\n",
    "if valor > 0:\n",
    "    print(f\"o valor {valor} é positivo\")\n",
    "elif valor < 0:\n",
    "    print(f\"o valor {valor} é negativo\")\n",
    "else:\n",
    "    print(f\"o valor {valor} nulo\")"
   ]
  },
  {
   "cell_type": "markdown",
   "id": "6966546b",
   "metadata": {},
   "source": [
    "#### 3. Faça um Programa que verifique se uma letra digitada é \"F\" ou \"M\". Conforme a letra escrever: F - Feminino, M - Masculino, Inválido."
   ]
  },
  {
   "cell_type": "code",
   "execution_count": 11,
   "id": "876a1e67",
   "metadata": {},
   "outputs": [
    {
     "name": "stdout",
     "output_type": "stream",
     "text": [
      "Informe uma letra F para Feminino e M para MasculinoM\n",
      "M - Masculino\n"
     ]
    }
   ],
   "source": [
    "sexo = input(\"Informe uma letra F para Feminino e M para Masculino\")\n",
    "\n",
    "if sexo == \"F\":\n",
    "    print(f\"{sexo} - Feminino\")\n",
    "elif sexo == \"M\":\n",
    "    print(f\"{sexo} - Masculino\")\n",
    "else:\n",
    "    print(\"Inválido\")"
   ]
  },
  {
   "cell_type": "markdown",
   "id": "c122c0cf",
   "metadata": {},
   "source": [
    "#### 4. Faça um Programa que verifique se o e-mail digitado faz parte dos e-mails de spam."
   ]
  },
  {
   "cell_type": "code",
   "execution_count": 13,
   "id": "59bed184",
   "metadata": {},
   "outputs": [
    {
     "name": "stdout",
     "output_type": "stream",
     "text": [
      "Informe um e-mailfulano@gmail.com\n",
      "Alerta de SPAM\n"
     ]
    }
   ],
   "source": [
    "emails_spam = \"fulano@gmail.com,beltrano@gmail.com,ciclano@gmail.com\"\n",
    "\n",
    "email = input(\"Informe um e-mail\")\n",
    "\n",
    "if email in emails_spam:\n",
    "    print(\"Alerta de SPAM\")\n",
    "else:\n",
    "    print(\"O e-mail digitado não faz parte dos e-mails de SPAM\")"
   ]
  },
  {
   "cell_type": "markdown",
   "id": "487ee073",
   "metadata": {},
   "source": [
    "#### 5. Faça um programa para a leitura de duas notas parciais de um aluno. O programa deve calcular a média alcançada por aluno e apresentar:\n",
    "\n",
    "##### A mensagem \"Aprovado\", se a média alcançada for maior ou igual a sete;\n",
    "##### A mensagem \"Reprovado\", se a média for menor do que sete;\n",
    "##### A mensagem \"Aprovado com Distinção\", se a média for igual a dez."
   ]
  },
  {
   "cell_type": "code",
   "execution_count": 21,
   "id": "7f5c7096",
   "metadata": {},
   "outputs": [
    {
     "name": "stdout",
     "output_type": "stream",
     "text": [
      "Informe sua primeira nota: 10\n",
      "Informe sua segunda nota: 10\n",
      "Aprovado com Distinção!\n"
     ]
    }
   ],
   "source": [
    "#coletar notas parciais do aluno\n",
    "nota1 = float(input(\"Informe sua primeira nota: \"))\n",
    "nota2 = float(input(\"Informe sua segunda nota: \"))\n",
    "#calcular média alcançada do aluno\n",
    "media = (nota1 + nota2) /2\n",
    "\n",
    "\n",
    "if media == 10:\n",
    "    print(\"Aprovado com Distinção!\")\n",
    "\n",
    "elif media > 7:\n",
    "    print(\"Aprovado!\")\n",
    "    \n",
    "else:\n",
    "    print(\"Reprovado!!\")"
   ]
  },
  {
   "cell_type": "markdown",
   "id": "6dd3f171",
   "metadata": {},
   "source": [
    "#### 6. Faça um Programa que leia o orçamento de 3 empresas e mostre o maior deles."
   ]
  },
  {
   "cell_type": "code",
   "execution_count": 27,
   "id": "51b591e5",
   "metadata": {},
   "outputs": [
    {
     "name": "stdout",
     "output_type": "stream",
     "text": [
      "Informe o orçamento da primeira empresa 1\n",
      "Informe o orçamento da segunda empresa 2\n",
      "Informe o orçamento da terceira empresa 3\n",
      "A terceira empresa tem o maior orçamento: R$3.0\n"
     ]
    }
   ],
   "source": [
    "orcamento1 = float(input(\"Informe o orçamento da primeira empresa \"))\n",
    "orcamento2 = float(input(\"Informe o orçamento da segunda empresa \"))\n",
    "orcamento3 = float(input(\"Informe o orçamento da terceira empresa \"))\n",
    "\n",
    "if orcamento1 > orcamento2 and orcamento1 > orcamento3:\n",
    "    print(f\"A primeira empresa tem o maior orçamento: R${orcamento1}\")\n",
    "elif orcamento2 > orcamento1 and orcamento2 > orcamento3:\n",
    "    print(f\"A segunda empresa tem o maior orçamento: R${orcamento2}\")\n",
    "elif orcamento3 > orcamento1 and orcamento3 > orcamento2:\n",
    "    print(f\"A terceira empresa tem o maior orçamento: R${orcamento3}\")"
   ]
  },
  {
   "cell_type": "markdown",
   "id": "ce09ed1c",
   "metadata": {},
   "source": [
    "#### 7. Faça um Programa que leia três orçamentos e mostre o maior e o menor deles."
   ]
  },
  {
   "cell_type": "code",
   "execution_count": 28,
   "id": "249f1eb8",
   "metadata": {},
   "outputs": [
    {
     "name": "stdout",
     "output_type": "stream",
     "text": [
      "Informe o orçamento da primeira empresa 1\n",
      "Informe o orçamento da segunda empresa 2\n",
      "Informe o orçamento da terceira empresa 3\n",
      "A terceira empresa tem o maior orçamento: R$3.0\n",
      "A primeira empresa tem o menor orçamento: R$1.0\n"
     ]
    }
   ],
   "source": [
    "orcamento1 = float(input(\"Informe o orçamento da primeira empresa \"))\n",
    "orcamento2 = float(input(\"Informe o orçamento da segunda empresa \"))\n",
    "orcamento3 = float(input(\"Informe o orçamento da terceira empresa \"))\n",
    "\n",
    "if orcamento1 > orcamento2 and orcamento1 > orcamento3:\n",
    "    print(f\"A primeira empresa tem o maior orçamento: R${orcamento1}\")\n",
    "elif orcamento2 > orcamento1 and orcamento2 > orcamento3:\n",
    "    print(f\"A segunda empresa tem o maior orçamento: R${orcamento2}\")\n",
    "elif orcamento3 > orcamento1 and orcamento3 > orcamento2:\n",
    "    print(f\"A terceira empresa tem o maior orçamento: R${orcamento3}\")\n",
    "\n",
    "    \n",
    "if orcamento1 < orcamento2 and orcamento1 < orcamento3:\n",
    "    print(f\"A primeira empresa tem o menor orçamento: R${orcamento1}\")\n",
    "elif orcamento2 < orcamento1 and orcamento2 < orcamento3:\n",
    "    print(f\"A segunda empresa tem o menor orçamento: R${orcamento2}\")\n",
    "elif orcamento3 < orcamento1 and orcamento3 < orcamento2:\n",
    "    print(f\"A terceira empresa tem o menor orçamento: R${orcamento3}\")"
   ]
  },
  {
   "cell_type": "markdown",
   "id": "7453d43a",
   "metadata": {},
   "source": [
    "#### 8. Faça um programa que pergunte o preço de três produtos e informe qual produto você deve comprar, sabendo que a decisão é sempre pelo mais barato."
   ]
  },
  {
   "cell_type": "code",
   "execution_count": 32,
   "id": "26a9503e",
   "metadata": {},
   "outputs": [
    {
     "name": "stdout",
     "output_type": "stream",
     "text": [
      "Informe o preço do primeiro produto: 5\n",
      "Informe o preço do primeiro produto: 4\n",
      "Informe o preço do primeiro produto: 6\n",
      "Você deve comprar o segundo produto pois o preço dele é menor R$4.0\n"
     ]
    }
   ],
   "source": [
    "produto1 = float(input(\"Informe o preço do primeiro produto: \"))\n",
    "produto2 = float(input(\"Informe o preço do primeiro produto: \"))\n",
    "produto3 = float(input(\"Informe o preço do primeiro produto: \"))\n",
    "\n",
    "if produto1 < produto2 and produto1 < produto3:\n",
    "    print(f\"Você deve comprar o primeiro produto pois o preço dele é menor R${produto1}\")\n",
    "elif produto2 < produto1 and produto2 < produto3:\n",
    "    print(f\"Você deve comprar o segundo produto pois o preço dele é menor R${produto2}\")\n",
    "elif produto3 < produto1 and produto3 < produto2:\n",
    "    print(f\"Você deve comprar o terceiro produto pois o preço dele é menor R${produto3}\")   "
   ]
  },
  {
   "cell_type": "markdown",
   "id": "9ade258f",
   "metadata": {},
   "source": [
    "#### 9. Faça um Programa que leia três números e mostre-os em ordem decrescente."
   ]
  },
  {
   "cell_type": "code",
   "execution_count": 33,
   "id": "f194c39e",
   "metadata": {},
   "outputs": [
    {
     "name": "stdout",
     "output_type": "stream",
     "text": [
      "Informe o primeiro numero: 612.1\n",
      "Informe o segundo numero: 5616\n",
      "Informe o terceiro numero: 516\n",
      "O maior número é 5616.0\n",
      "O segundo maior número é 612.1\n",
      "O terceiro maior número é 516.0\n"
     ]
    }
   ],
   "source": [
    "numero1 = float(input(\"Informe o primeiro numero: \"))\n",
    "numero2 = float(input(\"Informe o segundo numero: \"))\n",
    "numero3 = float(input(\"Informe o terceiro numero: \"))\n",
    "\n",
    "if numero1 > numero2 and numero1 > numero3:\n",
    "    print('O maior número é', numero1)\n",
    "    if numero2 > numero3:\n",
    "        print('O segundo maior número é', numero2)\n",
    "        print('O terceiro maior número é', numero3)\n",
    "    else:\n",
    "        print('O segundo maior número é', numero3)\n",
    "        print('O terceiro maior número é', numero2)\n",
    "elif numero2 > numero1 and numero2 > numero3:\n",
    "    print('O maior número é', numero2)\n",
    "    if numero1 > numero3:\n",
    "        print('O segundo maior número é', numero1)\n",
    "        print('O terceiro maior número é', numero3)\n",
    "    else:\n",
    "        print('O segundo maior número é', numero3)\n",
    "        print('O terceiro maior número é', numero1)\n",
    "elif numero3 > numero1 and numero3 > numero2:\n",
    "    print('O maior número é', numero3)\n",
    "    if numero1 > numero2:\n",
    "        print('O segundo maior número é', numero1)\n",
    "        print('O terceiro maior número é', numero2)\n",
    "    else:\n",
    "        print('O segundo maior número é', numero2)\n",
    "        print('O terceiro maior número é', numero1)    "
   ]
  },
  {
   "cell_type": "markdown",
   "id": "d06e2fe8",
   "metadata": {},
   "source": [
    "#### 10. Faça um Programa que pergunte em que turno você estuda. Peça para digitar M-matutino ou V-Vespertino ou N- Noturno. Imprima a mensagem \"Bom Dia!\", \"Boa Tarde!\" ou \"Boa Noite!\" ou \"Valor Inválido!\", conforme o caso."
   ]
  },
  {
   "cell_type": "code",
   "execution_count": 37,
   "id": "1eb36141",
   "metadata": {},
   "outputs": [
    {
     "name": "stdout",
     "output_type": "stream",
     "text": [
      "Em qual turno você estuda? digite M para matutino ou V para Vespertino ou N para Noturno.N\n",
      "Boa noite!\n"
     ]
    }
   ],
   "source": [
    "turno = input(\"Em qual turno você estuda? digite M para matutino ou V para Vespertino ou N para Noturno.\")\n",
    "\n",
    "if turno == \"M\":\n",
    "    print(\"Bom dia!\")\n",
    "elif turno == \"V\":\n",
    "    print(\"Boa tarde!\")\n",
    "elif turno == \"N\":\n",
    "    print(\"Boa noite!\")\n",
    "else:\n",
    "    print(\"Valor Inválido\")\n",
    "\n"
   ]
  },
  {
   "cell_type": "markdown",
   "id": "4864b755",
   "metadata": {},
   "source": [
    "#### 11. As Organizações Tabajara resolveram dar um aumento de salário aos seus colaboradores e lhe contraram para desenvolver o programa que calculará os reajustes. Faça um programa que recebe o salário de um colaborador e o reajuste segundo o seguinte critério, baseado no salário atual:\n",
    "\n",
    "##### salários até R\\\\$ 280,00 (incluindo) : aumento de 20% \n",
    "\n",
    "##### salários entre R\\\\$ 280,00 e R\\\\$ 700,00 : aumento de 15% \n",
    "\n",
    "##### salários entre R\\\\$ 700,00 e R\\\\$ 1500,00 : aumento de 10% \n",
    "\n",
    "##### salários de R\\\\$ 1500,00 em diante : aumento de 5% Após o aumento ser realizado, informe na tela: \n",
    "\n",
    "###### o salário antes do reajuste;\n",
    "\n",
    "###### o percentual de aumento aplicado;\n",
    "\n",
    "###### o valor do aumento;\n",
    "\n",
    "###### o novo salário, após o aumento.\n",
    "\n",
    "###### Obs: Não vamos nos preocupar tanto com a formatação dos números (nº de casas decimais, por exemplo, veremos isso no próximo módulo)"
   ]
  },
  {
   "cell_type": "code",
   "execution_count": 39,
   "id": "f0d34916",
   "metadata": {},
   "outputs": [
    {
     "name": "stdout",
     "output_type": "stream",
     "text": [
      "Informe seu salário atual: 5400\n",
      "seu salario era de R$5400.0, aumentou 5.0%, teve um acréscimo de R$270.0 agora seu novo salário é de 5670.0\n"
     ]
    }
   ],
   "source": [
    "#Recebe o salário do colaborador\n",
    "salario = float(input(\"Informe seu salário atual: \"))\n",
    "\n",
    "if salario < 199.99:\n",
    "    percentual = 0.2\n",
    "elif salario >=280.00 and salario <= 699.99:\n",
    "    percentual = 0.15\n",
    "elif salario >= 700.00 and salario <= 1499.99:\n",
    "    percentual = 0.1\n",
    "else:\n",
    "    percentual = 0.05\n",
    "    \n",
    "novo_salario = salario * (1 + percentual)\n",
    "valor_do_aumento = novo_salario - salario\n",
    "\n",
    "print(f\"seu salario era de R${salario}, aumentou {percentual * 100}%, teve um acréscimo de R${valor_do_aumento} agora seu novo salário é de {novo_salario}\")\n",
    "\n",
    "    "
   ]
  },
  {
   "cell_type": "markdown",
   "id": "b037f1e8",
   "metadata": {},
   "source": [
    "#### 12 . Faça um programa para o cálculo de uma folha de pagamento, sabendo que os descontos são do Imposto de Renda, que depende do salário bruto (conforme tabela abaixo) e 3% para o Sindicato e que o FGTS corresponde a 11% do Salário Bruto, mas não é descontado (é a empresa que deposita). O Salário Líquido corresponde ao Salário Bruto menos os descontos. O programa deverá pedir ao usuário o valor da sua hora e a quantidade de horas trabalhadas no mês.\n",
    "\n",
    "Desconto do IR:<br>\n",
    "Salário Bruto até 900 (inclusive) - isento<br>\n",
    "Salário Bruto até 1500 (inclusive) - desconto de 5%<br>\n",
    "Salário Bruto até 2500 (inclusive) - desconto de 10%<br>\n",
    "Salário Bruto acima de 2500 - desconto de 20%<br>\n",
    "Imprima na tela as informações, dispostas conforme o exemplo abaixo. No exemplo o valor da hora é 5 e a quantidade de hora é 220.\n",
    "\n",
    "Salário Bruto: (5 * 220)        : R\\\\$ 1100,00<br>\n",
    "(-) IR (5%)                     : R\\\\$   55,00<br>\n",
    "(-) INSS ( 10%)                 : R\\\\$  110,00<br>\n",
    "FGTS (11%)                      : R\\\\$  121,00<br>\n",
    "Total de descontos              : R\\\\$  165,00<br>\n",
    "Salário Liquido                 : R\\\\$  935,00<br>\n",
    "\n",
    "###### Obs: Não vamos nos preocupar tanto com a formatação dos números (nº de casas decimais, por exemplo, veremos isso no próximo módulo)"
   ]
  },
  {
   "cell_type": "code",
   "execution_count": 2,
   "id": "dad18bb2",
   "metadata": {},
   "outputs": [
    {
     "name": "stdout",
     "output_type": "stream",
     "text": [
      "Informe o valor da hora R$: 37.5\n",
      "Informe a quantidade de horas trabalhadas: 160\n",
      "Salário Bruto: (R$37.5 * 160): R$ 6000.0\n",
      "(-) IR (20.0%): R$ 1200.0\n",
      "(-) INSS (10%): R$ 600.0\n",
      "FGTS (11%): R$ 660.00\n",
      "Total de descontos: R$ 1800.00\n",
      "Salário Líquido: R$ 4200.00\n"
     ]
    }
   ],
   "source": [
    "valor_hora = float(input('Informe o valor da hora R$: '))\n",
    "qtd_horas = int(input('Informe a quantidade de horas trabalhadas: '))\n",
    "salario = valor_hora * qtd_horas\n",
    "print(f'Salário Bruto: (R${valor_hora} * {qtd_horas}): R$ {salario}')\n",
    "\n",
    "if salario <= 900:\n",
    "    percentual = 0\n",
    "elif salario <= 1500:\n",
    "    percentual = 0.05\n",
    "elif salario <= 2500:\n",
    "    percentual = 0.1\n",
    "else:\n",
    "    percentual = 0.2\n",
    "    \n",
    "ir = percentual * salario\n",
    "inss = 0.1 * salario\n",
    "fgts = 0.11 * salario\n",
    "total_desconto = ir + inss\n",
    "salario_liquido = salario - total_desconto\n",
    "print(f'(-) IR ({percentual * 100}%): R$ {ir}')\n",
    "print(f'(-) INSS (10%): R$ {inss}')\n",
    "print(f'FGTS (11%): R$ {fgts:.2f}')\n",
    "print(f'Total de descontos: R$ {total_desconto:.2f}')\n",
    "print(f'Salário Líquido: R$ {salario_liquido:.2f}')"
   ]
  },
  {
   "cell_type": "markdown",
   "id": "814fc211",
   "metadata": {},
   "source": [
    "#### 13. Faça um Programa que leia um número e exiba o dia correspondente da semana. (1-Domingo, 2- Segunda, etc.), se digitar outro valor deve aparecer valor inválido."
   ]
  },
  {
   "cell_type": "code",
   "execution_count": 5,
   "id": "f2c2b8d8",
   "metadata": {},
   "outputs": [
    {
     "name": "stdout",
     "output_type": "stream",
     "text": [
      "digite um número do dia da semana: (1-Domingo, 2- Segunda, 3-terça, 4-quarta, 5-quinta, 6-sexta e 7-sábado)5\n",
      "Quinta-feira\n"
     ]
    }
   ],
   "source": [
    "dia = int(input(\"digite um número do dia da semana: (1-Domingo, 2- Segunda, 3-terça, 4-quarta, 5-quinta, 6-sexta e 7-sábado)\"))\n",
    "\n",
    "if dia == 1:\n",
    "    dia_semana = 'Domingo'\n",
    "elif dia == 2:\n",
    "    dia_semana = 'Segunda-feira'\n",
    "elif dia == 3:\n",
    "    dia_semana = 'Terça-feira'\n",
    "elif dia == 4:\n",
    "    dia_semana = 'Quarta-feira'\n",
    "elif dia == 5:\n",
    "    dia_semana = 'Quinta-feira'\n",
    "elif dia == 6:\n",
    "    dia_semana = 'Sexta-feira'\n",
    "elif dia == 7:\n",
    "    dia_semana = 'Sábado'\n",
    "else:\n",
    "    dia_semana = 'Valor inválido'\n",
    "    \n",
    "print(dia_semana)   "
   ]
  },
  {
   "cell_type": "markdown",
   "id": "6e5f461e",
   "metadata": {},
   "source": [
    "#### 14. Faça um programa que lê as duas notas parciais obtidas por um aluno numa disciplina ao longo de um semestre, e calcule a sua média. Em seguida, mostre qual conceito o aluno teve. A atribuição de conceitos obedece à tabela abaixo:\n",
    "<pre>\n",
    "Média de Aproveitamento  Conceito\n",
    "Entre 9.0 e 10.0        A\n",
    "Entre 7.5 e 9.0         B\n",
    "Entre 6.0 e 7.5         C\n",
    "Entre 4.0 e 6.0         D\n",
    "Entre 4.0 e zero        E\n",
    "</pre>"
   ]
  },
  {
   "cell_type": "code",
   "execution_count": 11,
   "id": "59617fcc",
   "metadata": {},
   "outputs": [
    {
     "name": "stdout",
     "output_type": "stream",
     "text": [
      "Informe sua primeira nota parcial: 6516\n",
      "Informe sua segunda nota parcial: 6516\n",
      "Seu conceito foi Valor inválido\n"
     ]
    }
   ],
   "source": [
    "nota1 = float(input('Informe sua primeira nota parcial: '))\n",
    "nota2 = float(input('Informe sua segunda nota parcial: '))\n",
    "\n",
    "media = (nota1 + nota2) /2\n",
    "\n",
    "if media >= 9 and media <= 10:\n",
    "    conceito = 'A'\n",
    "elif media >= 7.5 and media <= 8.9:\n",
    "    conceito = 'B'\n",
    "elif media >= 6 and media <= 7.4:\n",
    "    conceito = 'C'\n",
    "elif media >= 4 and media <= 5.9:\n",
    "    conceito = 'D'\n",
    "elif media >= 0 and media <= 3.9:\n",
    "    conceito = 'E'\n",
    "else:\n",
    "    conceito = 'Valor inválido'\n",
    "    \n",
    "print(f\"Seu conceito foi {conceito}\")"
   ]
  },
  {
   "cell_type": "code",
   "execution_count": null,
   "id": "29721a43",
   "metadata": {
    "collapsed": true
   },
   "outputs": [],
   "source": []
  },
  {
   "cell_type": "markdown",
   "id": "e6b3bcaf",
   "metadata": {},
   "source": [
    "#### 15. Você está construindo um calendário para controlar dias de trabalho a pedido do RH. Nessa construção, você vai precisar definir quais anos são bissextos e quais não são, para montar o calendário de forma correta. Faça um Programa que peça um número correspondente a um determinado ano e em seguida informe se este ano é ou não bissexto.\n",
    "<pre>\n",
    "Dica para determinar se um ano é bissexto: \n",
    "- São bissextos todos os anos múltiplos de 400, p.ex.: 1600, 2000, 2400, 2800...\n",
    "- São bissextos todos os múltiplos de 4, exceto se for múltiplo de 100 mas não de 400, \n",
    "p.ex.: 1996, 2000, 2004, 2008, 2012, 2016, 2020, 2024, 2028...\n",
    "- Não são bissextos todos os demais anos.<br>\n",
    "ex1: 2004 é múltiplo de 4, mas não é múltiplo de 100, então é bissexto.\n",
    "ex2: 2000 é múltiplo de 4, mas é múltiplo de 100, só que também é multiplo de 400, então é bissexto (porque todo ano múltiplo de 400 é bissexto, independente do resto).\n",
    "ex3: 1900 é múltiplo de 4, é múltiplo de 100, mas não é múltiplo de 400, então não é bissexto\n",
    "\n",
    "</pre>\n",
    "\n",
    "Dica: lembre que: numero % 4 é o resto da divisão do número por 4, ex: 10 % 3 = 1 (já que 10/3 = 3 e resta 1)"
   ]
  },
  {
   "cell_type": "code",
   "execution_count": 14,
   "id": "56af223f",
   "metadata": {},
   "outputs": [
    {
     "name": "stdout",
     "output_type": "stream",
     "text": [
      "Informe o ano: 1996\n",
      "O ano é bissexto.\n"
     ]
    }
   ],
   "source": [
    "ano = int(input('Informe o ano: '))\n",
    "\n",
    "if (ano % 4 == 0 and ano % 100 != 0) or ano % 400 == 0:\n",
    "    print('O ano é bissexto.')\n",
    "else:\n",
    "    print('Não é um ano bissexto.')"
   ]
  },
  {
   "cell_type": "markdown",
   "id": "9fe532c8",
   "metadata": {},
   "source": [
    "#### 16. Faça um Programa para leitura de três notas parciais de um aluno. O programa deve calcular a média alcançada por aluno e presentar:\n",
    "<pre>\n",
    "A mensagem \"Aprovado\", se a média for maior ou igual a 7, com a respectiva média alcançada;\n",
    "A mensagem \"Reprovado\", se a média for menor do que 7, com a respectiva média alcançada;\n",
    "A mensagem \"Aprovado com Distinção\", se a média for igual a 10.\n",
    "</pre>"
   ]
  },
  {
   "cell_type": "code",
   "execution_count": 16,
   "id": "1a56e99f",
   "metadata": {},
   "outputs": [
    {
     "name": "stdout",
     "output_type": "stream",
     "text": [
      "Informe sua primeira nota: 8\n",
      "Informe sua segunda nota: 7\n",
      "Informe sua terceira  nota: 9\n",
      "Aprovado!\n"
     ]
    }
   ],
   "source": [
    "#coletar notas parciais do aluno\n",
    "nota1 = float(input(\"Informe sua primeira nota: \"))\n",
    "nota2 = float(input(\"Informe sua segunda nota: \"))\n",
    "nota3 = float(input(\"Informe sua terceira  nota: \"))\n",
    "#calcular média alcançada do aluno\n",
    "media = (nota1 + nota2 + nota3) /3\n",
    "\n",
    "\n",
    "if media == 10:\n",
    "    print(\"Aprovado com Distinção!\")\n",
    "\n",
    "elif media > 7:\n",
    "    print(\"Aprovado!\")\n",
    "    \n",
    "else:\n",
    "    print(\"Reprovado!!\")"
   ]
  },
  {
   "cell_type": "markdown",
   "id": "d544412e",
   "metadata": {},
   "source": [
    "#### 17. João Papo-de-Pescador, homem de bem, comprou um microcomputador para controlar o rendimento diário de seu trabalho. Toda vez que ele traz um peso de peixes maior que o estabelecido pelo regulamento de pesca do estado de São Paulo (50 quilos) deve pagar uma multa de R$ 4,00 por quilo excedente. João precisa que você faça um programa que leia a variável peso (peso de peixes) e calcule o excesso. Gravar na variável excesso a quantidade de quilos além do limite e na variável multa o valor da multa que João deverá pagar. Imprima os dados do programa com as mensagens adequadas."
   ]
  },
  {
   "cell_type": "code",
   "execution_count": 18,
   "id": "971ed027",
   "metadata": {},
   "outputs": [
    {
     "name": "stdout",
     "output_type": "stream",
     "text": [
      "Informe o peso: 70\n",
      "houve um excesso de 20.0kg e sua multa será de R$80.0\n"
     ]
    }
   ],
   "source": [
    "#50kg é o regulamento, multa de 4 reais se passar do regulamento por kg excedente.\n",
    "#ler a variável peso\n",
    "\n",
    "peso = float(input(\"Informe o peso: \"))\n",
    "\n",
    "if peso <= 50:\n",
    "    print(\"Não há excesso nem multa\")\n",
    "else:\n",
    "    excesso = peso - 50\n",
    "    multa = excesso * 4\n",
    "    print(f\"houve um excesso de {excesso}kg e sua multa será de R${multa}\")"
   ]
  },
  {
   "cell_type": "markdown",
   "id": "0e5256e0",
   "metadata": {},
   "source": [
    "#### 18. Faça um Programa para um caixa eletrônico. O programa deverá perguntar ao usuário a valor do saque e depois informar quantas notas de cada valor serão fornecidas. As notas disponíveis serão as de 1, 5, 10, 50 e 100 reais. O valor mínimo é de 10 reais e o máximo de 600 reais. O programa não deve se preocupar com a quantidade de notas existentes na máquina.\n",
    "<pre>\n",
    "Exemplo 1: Para sacar a quantia de 256 reais, o programa fornece duas notas de 100, uma nota de 50, uma nota de 5 e uma nota de 1;\n",
    "Exemplo 2: Para sacar a quantia de 399 reais, o programa fornece três notas de 100, uma nota de 50, quatro notas de 10, uma nota de 5 e quatro notas de 1.\n",
    "</pre>\n",
    "\n",
    "Dica1: numero // 10 vai te dar como resposta a parte inteira da divisão do número por 10.<br>\n",
    "Dica2: numero % 10 vai te dar o resto da divisão do número por 10."
   ]
  },
  {
   "cell_type": "code",
   "execution_count": null,
   "id": "9b4244c7",
   "metadata": {},
   "outputs": [],
   "source": [
    "#perguntar quanto quer sacar\n",
    "\n",
    "saque = int(input(\"Quanto você deseja sacar? \"))\n",
    "\n",
    "n100 = 0\n",
    "n50 = 0\n",
    "n10 = 0\n",
    "n5 = 0\n",
    "n1 = 0\n",
    "\n",
    "if 10 <= saque <= 600:\n",
    "    print('São necessárias:')\n",
    "    if saque > 100:\n",
    "        n100 = saque // 100\n",
    "        print(n100, 'notas de 100')\n",
    "    if saque % 100 >= 50:\n",
    "        n50 = (saque - 100*n100) // 50\n",
    "        print(n50, 'notas de 50')\n",
    "    if saque % 50 >= 10:\n",
    "        n10 = (saque - 100*n100 - 50*n50) // 10\n",
    "        print(n10, 'notas de 10')\n",
    "    if saque % 10 >= 5:\n",
    "        n5 = (saque - 100*n100 - 50*n50 - 10*n10) // 5\n",
    "        print(n5, 'notas de 5')\n",
    "    if saque % 5 >= 1:\n",
    "        n1 = saque - 100*n100 - 50*n50 - 10*n10 - 5*n5\n",
    "        print(n1, 'notas de 1')\n",
    "else:\n",
    "    print('Informe um valor entre 10 e 600 reais')"
   ]
  },
  {
   "cell_type": "raw",
   "id": "2584a443",
   "metadata": {},
   "source": [
    "#### 19. Faça um programa que faça 5 perguntas para uma pessoa sobre um crime. As perguntas são:\n",
    "<pre>\n",
    "\"Telefonou para a vítima?\"\n",
    "\"Esteve no local do crime?\"\n",
    "\"Mora perto da vítima?\"\n",
    "\"Devia para a vítima?\"\n",
    "\"Já trabalhou com a vítima?\" \n",
    "O programa deve no final emitir uma classificação sobre a participação da pessoa no crime. Se a pessoa responder positivamente a 2 questões ela deve ser classificada como \"Suspeita\", entre 3 e 4 como \"Cúmplice\" e 5 como \"Assassino\". Caso contrário, ele será classificado como \"Inocente\".\n",
    "</pre>"
   ]
  },
  {
   "cell_type": "code",
   "execution_count": 21,
   "id": "5fdf9b88",
   "metadata": {},
   "outputs": [
    {
     "name": "stdout",
     "output_type": "stream",
     "text": [
      "Telefonou para a vítima?sim\n",
      "Esteve no local do crime?sim\n",
      "Mora perto da vítima? sim\n",
      "Devia para a vítima?sim\n",
      "Já trabalhou com a vítima?não\n",
      "Cúmplice\n"
     ]
    }
   ],
   "source": [
    "resposta = input(\"Telefonou para a vítima?\")\n",
    "\n",
    "p1 = 0\n",
    "p2 = 0\n",
    "p3 = 0\n",
    "p4 = 0\n",
    "p5 = 0\n",
    "\n",
    "if resposta == \"sim\":\n",
    "    p1 = 1\n",
    "\n",
    "resposta = input(\"Esteve no local do crime?\")\n",
    "\n",
    "if resposta == \"sim\":\n",
    "    p2 = 1\n",
    "\n",
    "resposta = input(\"Mora perto da vítima? \")\n",
    "\n",
    "if resposta == \"sim\":\n",
    "    p3 = 1\n",
    "\n",
    "resposta = input(\"Devia para a vítima?\")\n",
    "\n",
    "if resposta == \"sim\":\n",
    "    p4 = 1\n",
    "\n",
    "resposta = input(\"Já trabalhou com a vítima?\")\n",
    "\n",
    "if resposta == \"sim\":\n",
    "    p5 = 1\n",
    "    \n",
    "soma = p1 + p2 + p3 + p4 + p5\n",
    "\n",
    "if soma == 2:\n",
    "    print(\"Suspeita\")\n",
    "elif 3 <= soma <= 4:\n",
    "    print(\"Cúmplice\")\n",
    "elif soma == 5:\n",
    "    print(\"Assassino\")\n",
    "else:\n",
    "    print(\"inocente\")"
   ]
  },
  {
   "cell_type": "markdown",
   "id": "18901e98",
   "metadata": {},
   "source": [
    "#### 20. Um posto está vendendo combustíveis com a seguinte tabela de descontos:\n",
    "<pre>\n",
    "Álcool:\n",
    "até 20 litros, desconto de 3% por litro\n",
    "acima de 20 litros, desconto de 5% por litro\n",
    "Gasolina:\n",
    "até 20 litros, desconto de 4% por litro\n",
    "acima de 20 litros, desconto de 6% por litro\n",
    "\n",
    "Escreva um algoritmo que leia o número de litros vendidos, o tipo de combustível (codificado da seguinte forma: A-álcool, G-gasolina), calcule e imprima o valor a ser pago pelo cliente sabendo-se que o preço do litro da gasolina é R$ 2,50 o preço do litro do álcool é R$ 1,90.\n",
    "</pre>"
   ]
  },
  {
   "cell_type": "code",
   "execution_count": 5,
   "id": "a1fd8c38",
   "metadata": {},
   "outputs": [
    {
     "name": "stdout",
     "output_type": "stream",
     "text": [
      "Informe o tipo de combustível: (A-álcool, G-gasolina)A\n",
      "Quantos litros você quer colocar? 5\n",
      "Total a pagar: R$9.215\n"
     ]
    }
   ],
   "source": [
    "tipo = input(\"Informe o tipo de combustível: (A-álcool, G-gasolina)\")\n",
    "quantidade = int(input(\"Quantos litros você quer colocar? \"))\n",
    "\n",
    "if tipo == \"A\" and quantidade <= 20:\n",
    "    total = (1.9 * quantidade) * 0.97\n",
    "elif tipo == \"A\" and quantidade > 20:\n",
    "    total = (1.9 * quantidade) * 0.95\n",
    "elif tipo == \"G\" and quantidade <= 20:\n",
    "    total = (2.5 * quantidade) * 0.96\n",
    "elif tipo == \"G\" and quantidade > 20:\n",
    "    total = (2.5 * quantidade) * 0.94\n",
    "\n",
    "print(f\"Total a pagar: R${total}\")"
   ]
  },
  {
   "cell_type": "markdown",
   "id": "be0f8f32",
   "metadata": {},
   "source": [
    "#### 21. Uma fruteira está vendendo frutas com a seguinte tabela de preços:\n",
    "<pre>\n",
    "                      Até 5 Kg           Acima de 5 Kg\n",
    "Morango         R$ 2,50 por Kg          R$ 2,20 por Kg\n",
    "Maçã            R$ 1,80 por Kg          R$ 1,50 por Kg\n",
    "Se o cliente comprar mais de 8 Kg em frutas ou o valor total da compra ultrapassar R$ 25,00, receberá ainda um desconto de 10% sobre este total. Escreva um algoritmo para ler a quantidade (em Kg) de morangos e a quantidade (em Kg) de maças adquiridas e escreva o valor a ser pago pelo cliente.\n",
    "</pre>"
   ]
  },
  {
   "cell_type": "code",
   "execution_count": 3,
   "id": "35c47c8e",
   "metadata": {},
   "outputs": [
    {
     "name": "stdout",
     "output_type": "stream",
     "text": [
      "Informe qual o produto: (Morango, Maçã)Maçã\n",
      "Quantos kg você quer? 15\n",
      "Você pagará R$20.25 pelo Maçã\n"
     ]
    }
   ],
   "source": [
    "#inserir qual o produto\n",
    "produto = input(\"Informe qual o produto: (Morango, Maçã)\")\n",
    "#inserir a quantidade em kg\n",
    "quantidade = float(input(\"Quantos kg você quer? \"))\n",
    "\n",
    "#Morango\n",
    "\n",
    "if produto == \"Morango\" and quantidade <= 5:\n",
    "    preco =  2.5 * quantidade\n",
    "elif produto == \"Morango\" and quantidade <= 7:\n",
    "    preco =  2.2 * quantidade\n",
    "else:\n",
    "    preco = (2.2 * quantidade) * 0.90\n",
    "    \n",
    "\n",
    "#Maçã\n",
    "    \n",
    "if produto == \"Maçã\" and quantidade <= 5:\n",
    "    preco =  1.8 * quantidade\n",
    "elif produto == \"Maçã\" and quantidade <= 7:\n",
    "    preco = 1.5 * quantidade\n",
    "else:\n",
    "    preco = (1.5 * quantidade) * 0.90\n",
    "    \n",
    "    \n",
    "print(f\"Você pagará R${preco} pelo {produto}\")"
   ]
  },
  {
   "cell_type": "markdown",
   "id": "4dbd53ed",
   "metadata": {},
   "source": [
    "#### 22. O Hipermercado Tabajara está com uma promoção de carnes que é imperdível. Confira:\n",
    "<pre>\n",
    "                      Até 5 Kg           Acima de 5 Kg\n",
    "File Duplo      R$ 4,90 por Kg          R$ 5,80 por Kg\n",
    "Alcatra         R$ 5,90 por Kg          R$ 6,80 por Kg\n",
    "Picanha         R$ 6,90 por Kg          R$ 7,80 por Kg\n",
    "Para atender a todos os clientes, cada cliente poderá levar apenas um dos tipos de carne da promoção, porém não há limites para a quantidade de carne por cliente. Se compra for feita no cartão Tabajara o cliente receberá ainda um desconto de 5% sobre o total da compra. Escreva um programa que peça o tipo e a quantidade de carne comprada pelo usuário e gere um cupom fiscal, contendo as informações da compra: tipo e quantidade de carne, preço total, tipo de pagamento, valor do desconto e valor a pagar.\n",
    "</pre>"
   ]
  },
  {
   "cell_type": "code",
   "execution_count": 4,
   "id": "15a77357",
   "metadata": {},
   "outputs": [
    {
     "name": "stdout",
     "output_type": "stream",
     "text": [
      "Informe qual o produto: (FD - Filé Duplo, AL - Alcatra, PICA - Picanha)FD\n",
      "Quantos kg você quer? 4\n",
      "Seu cartão é da bandeira Tabajara? não\n",
      "Corte FD\n",
      "quantidade foi de 4.0kg\n",
      "o preço final foi de R$19.6\n",
      "Utilizou cartão Tabajara? não\n"
     ]
    }
   ],
   "source": [
    "#inserir qual o produto\n",
    "produto = input(\"Informe qual o produto: (FD - Filé Duplo, AL - Alcatra, PICA - Picanha)\")\n",
    "#inserir a quantidade em kg\n",
    "quantidade = float(input(\"Quantos kg você quer? \"))\n",
    "#qual o cartão\n",
    "cartao = input(\"Seu cartão é da bandeira Tabajara? \")\n",
    "\n",
    "\n",
    "\n",
    "#File Duplo\n",
    "\n",
    "if produto == \"FD\" and quantidade <= 5 and cartao == \"sim\":\n",
    "    preco =  (4.9 * quantidade) * 0.95\n",
    "elif produto == \"FD\" and quantidade >= 6 and cartao == \"sim\":\n",
    "    preco =  (5.8 * quantidade) * 0.95\n",
    "elif produto == \"FD\" and quantidade <= 5 and cartao == \"não\":\n",
    "    preco = 4.9 * quantidade\n",
    "elif produto == \"FD\" and quantidade >= 6 and cartao == \"não\":\n",
    "    preco =  5.8 * quantidade\n",
    "\n",
    "\n",
    "#Alcatra\n",
    "\n",
    "if produto == \"AL\" and quantidade <= 5 and cartao == \"sim\":\n",
    "    preco =  (5.9 * quantidade) * 0.95\n",
    "elif produto == \"AL\" and quantidade >= 6 and cartao == \"sim\":\n",
    "    preco =  (6.8 * quantidade) * 0.95\n",
    "elif produto == \"AL\" and quantidade <= 5 and cartao == \"não\":\n",
    "    preco = 5.9 * quantidade\n",
    "elif produto == \"AL\" and quantidade >= 6 and cartao == \"não\":\n",
    "    preco =  6.8 * quantidade\n",
    "\n",
    "    \n",
    "#Picanha\n",
    "\n",
    "if produto == \"PICA\" and quantidade <= 5 and cartao == \"sim\":\n",
    "    preco =  (6.9 * quantidade) * 0.95\n",
    "elif produto == \"PICA\" and quantidade >= 6 and cartao == \"sim\":\n",
    "    preco =  (7.8 * quantidade) * 0.95\n",
    "elif produto == \"PICA\" and quantidade <= 5 and cartao == \"não\":\n",
    "    preco = 6.9 * quantidade\n",
    "elif produto == \"PICA\" and quantidade >= 6 and cartao == \"não\":\n",
    "    preco =  7.8 * quantidade\n",
    "\n",
    "\n",
    "print(f\"Corte {produto}\") \n",
    "print(f\"quantidade foi de {quantidade}kg\")\n",
    "print(f\"o preço final foi de R${preco}\")\n",
    "print(f\"Utilizou cartão Tabajara? {cartao}\")"
   ]
  },
  {
   "cell_type": "markdown",
   "id": "b949545b",
   "metadata": {},
   "source": [
    "#### 23. Faça um Programa para uma loja de tintas. O programa deverá pedir o tamanho em metros quadrados da área a ser pintada. Considere que a cobertura da tinta é de 1 litro para cada 6 metros quadrados e que a tinta é vendida em latas de 18 litros, que custam R\\\\$ 80,00 ou em galões de 3,6 litros, que custam R\\\\$ 25,00."
   ]
  },
  {
   "cell_type": "code",
   "execution_count": null,
   "id": "b11185b0",
   "metadata": {},
   "outputs": [],
   "source": [
    "area = float(input('Informe o tamanho da área a ser pintada em m²: '))\n",
    "litros_tinta = area / 6"
   ]
  },
  {
   "cell_type": "markdown",
   "id": "b3d0598f",
   "metadata": {},
   "source": [
    "##### Informe ao usuário as quantidades de tinta a serem compradas e os respectivos preços em 3 situações.\n",
    "\n",
    "Dica: lembre dos operadores // e % mostrados em exercícios anteriores<br>\n",
    "Dica1: numero // 10 vai te dar como resposta a parte inteira da divisão do número por 10.<br>\n",
    "Dica2: numero % 10 vai te dar o resto da divisão do número por 10.\n",
    "\n",
    "##### Comprar apenas latas de 18 litros: (apenas latas inteiras)"
   ]
  },
  {
   "cell_type": "code",
   "execution_count": null,
   "id": "ed599d53",
   "metadata": {},
   "outputs": [],
   "source": [
    "if latas % 18 > 0:\n",
    "    latas = litros_tinta // 18 + 1\n",
    "else:\n",
    "    latas = litros_tinta // 18\n",
    "preco = latas * 80\n",
    "print(f'Serão necessárias {latas} latas, custando R$ {preco} no total')"
   ]
  },
  {
   "cell_type": "markdown",
   "id": "ab03bc10",
   "metadata": {},
   "source": [
    "##### Comprar apenas galões de 3,6 litros: (apenas galoes inteiros)"
   ]
  },
  {
   "cell_type": "code",
   "execution_count": null,
   "id": "542f4a77",
   "metadata": {},
   "outputs": [],
   "source": [
    "if litros_tinta % 3.6 > 0:\n",
    "    galoes = litros_tinta // 3.6 + 1\n",
    "else:\n",
    "    galoes = litros_tinta // 3.6\n",
    "preco = galoes * 25\n",
    "print(f'Serão necessários {galoes} galões, custando R$ {preco} no total')"
   ]
  },
  {
   "cell_type": "markdown",
   "id": "93d4157b",
   "metadata": {},
   "source": [
    "O custo da lata é 80/18 = 4,44 R\\\\$/L\n",
    "\n",
    "O custo do galão é 25/3,6 = 6,94 R\\\\$/L\n",
    "\n",
    "A lata é mais econômica, então todas as latas inteiras que pudermos usar devemos comprar em latas. Se ficar faltando alguma coisa para completar devemos avaliar se é melhor comprar latas ou galões. Exemplo:\n",
    "\n",
    "Se queremos comprar 90 litros. 5 latas dão exatamente 90 litros. Então devemos comprar tudo em latas.\n",
    "\n",
    "Se queremos comprar 95 litros. 5 latas dão exatamente 90 litros. Então devemos comprar pelo menos 5 latas e avaliar o que falta, se estes últimos 5 litros valem mais apenas em latas ou galões.\n",
    "\n",
    "Para os 5 litros faltantes precisamos de 2 galões que custam 50 reais no total. Ou de uma lata que custa 80 reais no total. Portanto, neste caso vale mais a pena usar 2 galões.\n",
    "\n",
    "Se queremos comprar 107 litros. 5 latas dão exatamente 90 litros. Então devemos comprar pelo menos 5 latas e avaliar o que falta, se estes últimos 5 litros valem mais apenas em latas ou galões.\n",
    "\n",
    "Para os 17 litros faltantes precisamos de 5 galões que custam 125 reais no total. Ou de uma lata que custa 80 reais no total. Portanto, neste caso vale mais a pena usar uma lata.\n",
    "\n",
    "3 galões custam 75 reais, 4 galões custam 100 reais. Então, se for possível completar com até 3 galões escolhe-se galões. Qualquer quantidade maior que 3 galões, usa-se latas.\n",
    "\n",
    "Podemos ir ao exercício:"
   ]
  },
  {
   "cell_type": "code",
   "execution_count": null,
   "id": "01d104b6",
   "metadata": {},
   "outputs": [],
   "source": [
    "# acrescentamos a folga de 10%\n",
    "litros_folga = litros_tinta * 1.1\n",
    "galoes = 0\n",
    "\n",
    "# só latas inteiras\n",
    "latas = litros_folga // 18\n",
    "\n",
    "\n",
    "# aqui vemos a tinta que faltou que não cabe em uma lata completa\n",
    "tinta_faltante = litros_folga - 18 * latas\n",
    "\n",
    "# tinta faltante em galões\n",
    "if tinta_faltante > 0:\n",
    "    if tinta_faltante % 3.6 > 0:\n",
    "        faltante_galoes = tinta_faltante // 3.6 + 1\n",
    "    else:\n",
    "        faltante_galoes = tinta_faltante // 3.6\n",
    "    if faltante_galoes <= 3:\n",
    "        galoes = faltante_galoes\n",
    "    else:\n",
    "        galoes = 0\n",
    "        latas = latas + 1\n",
    "\n",
    "preco = latas * 80 + galoes * 25\n",
    "print(f'São necessários {latas} latas e {galoes} galões. Custando R$ {preco} no total')"
   ]
  }
 ],
 "metadata": {
  "kernelspec": {
   "display_name": "Python 3 (ipykernel)",
   "language": "python",
   "name": "python3"
  },
  "language_info": {
   "codemirror_mode": {
    "name": "ipython",
    "version": 3
   },
   "file_extension": ".py",
   "mimetype": "text/x-python",
   "name": "python",
   "nbconvert_exporter": "python",
   "pygments_lexer": "ipython3",
   "version": "3.9.12"
  }
 },
 "nbformat": 4,
 "nbformat_minor": 5
}
