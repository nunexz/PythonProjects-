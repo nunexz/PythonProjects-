{
 "cells": [
  {
   "cell_type": "markdown",
   "metadata": {},
   "source": [
    "# List Comprehension não serve só para criar uma lista, serve para qualquer ação em iterable\n",
    "\n",
    "### Exemplo:"
   ]
  },
  {
   "cell_type": "markdown",
   "metadata": {},
   "source": [
    "- Vamos calcular quantos % das vendas o meu top 5 produtos representa das vendas totais"
   ]
  },
  {
   "cell_type": "code",
   "execution_count": 1,
   "metadata": {},
   "outputs": [],
   "source": [
    "produtos = ['coca', 'pepsi', 'guarana', 'skol', 'brahma', 'agua', 'del valle', 'dolly', 'red bull', 'cachaça', 'vinho tinto', 'vodka', 'vinho branco', 'tequila', 'champagne', 'gin', 'guaracamp', 'matte', 'leite de castanha', 'leite', 'jurupinga', 'sprite', 'fanta']\n",
    "vendas = [1200, 300, 800, 1500, 1900, 2750, 400, 20, 23, 70, 90, 80, 1100, 999, 900, 880, 870, 50, 1111, 120, 300, 450, 800]\n",
    "top5 = ['agua', 'brahma', 'skol', 'coca', 'leite de castanha']"
   ]
  },
  {
   "cell_type": "markdown",
   "metadata": {},
   "source": [
    "- Fazendo por for"
   ]
  },
  {
   "cell_type": "code",
   "execution_count": 3,
   "metadata": {},
   "outputs": [
    {
     "name": "stdout",
     "output_type": "stream",
     "text": [
      "8461\n",
      "Top 5 representou 50.6% das vendas\n"
     ]
    }
   ],
   "source": [
    "total_top5 = 0\n",
    "for i, produto in enumerate(produtos):\n",
    "    if produto in top5:\n",
    "        total_top5 = total_top5 + vendas[i]\n",
    "\n",
    "\n",
    "print(total_top5)\n",
    "print('Top 5 representou {:0.1%} das vendas'.format(total_top5/sum(vendas)))"
   ]
  },
  {
   "cell_type": "markdown",
   "metadata": {},
   "source": [
    "- Fazendo por list comprehension"
   ]
  },
  {
   "cell_type": "code",
   "execution_count": 4,
   "metadata": {},
   "outputs": [
    {
     "name": "stdout",
     "output_type": "stream",
     "text": [
      "8461\n",
      "Top 5 representou 50.6% das vendas\n"
     ]
    }
   ],
   "source": [
    "total_top5 = sum(vendas[i] for i, produto in enumerate(produtos) if produto in top5)\n",
    "\n",
    "print(total_top5)\n",
    "print('Top 5 representou {:0.1%} das vendas'.format(total_top5/sum(vendas)))"
   ]
  }
 ],
 "metadata": {
  "kernelspec": {
   "display_name": "Python 3 (ipykernel)",
   "language": "python",
   "name": "python3"
  },
  "language_info": {
   "codemirror_mode": {
    "name": "ipython",
    "version": 3
   },
   "file_extension": ".py",
   "mimetype": "text/x-python",
   "name": "python",
   "nbconvert_exporter": "python",
   "pygments_lexer": "ipython3",
   "version": "3.9.12"
  }
 },
 "nbformat": 4,
 "nbformat_minor": 4
}
