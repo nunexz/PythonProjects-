{
 "cells": [
  {
   "cell_type": "markdown",
   "metadata": {},
   "source": [
    "# Um exemplo prático de List Comprehension\n",
    "\n",
    "### O que faríamos se quisermos ordenar 2 listas \"relacionadas\""
   ]
  },
  {
   "cell_type": "code",
   "execution_count": 14,
   "metadata": {},
   "outputs": [
    {
     "name": "stdout",
     "output_type": "stream",
     "text": [
      "[(2100, 'microondas'), (1950, 'iphone'), (1500, 'vinho'), (150, 'cafeiteira')]\n"
     ]
    }
   ],
   "source": [
    "vendas_produtos = [1500, 150, 2100, 1950]\n",
    "produtos = ['vinho', 'cafeiteira', 'microondas', 'iphone']\n",
    "\n",
    "lista_auxiliar = list(zip(vendas_produtos, produtos))\n",
    "lista_auxiliar.sort(reverse=True)\n",
    "produtos = [(vendas, produto) for vendas, produto in lista_auxiliar]\n",
    "print(produtos)"
   ]
  },
  {
   "cell_type": "code",
   "execution_count": null,
   "metadata": {},
   "outputs": [],
   "source": []
  }
 ],
 "metadata": {
  "kernelspec": {
   "display_name": "Python 3 (ipykernel)",
   "language": "python",
   "name": "python3"
  },
  "language_info": {
   "codemirror_mode": {
    "name": "ipython",
    "version": 3
   },
   "file_extension": ".py",
   "mimetype": "text/x-python",
   "name": "python",
   "nbconvert_exporter": "python",
   "pygments_lexer": "ipython3",
   "version": "3.9.12"
  }
 },
 "nbformat": 4,
 "nbformat_minor": 4
}
