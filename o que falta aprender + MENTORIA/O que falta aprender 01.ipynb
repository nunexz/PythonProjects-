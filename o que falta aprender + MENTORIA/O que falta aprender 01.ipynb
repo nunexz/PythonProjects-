{
 "cells": [
  {
   "cell_type": "markdown",
   "metadata": {},
   "source": [
    "# O que falta aprender em Python?\n",
    "\n",
    "### Agora você já sabe Python\n",
    "\n",
    "### Só falta aprender:\n",
    "\n",
    "- Orientação a Objeto -> Classes, Métodos, etc.\n",
    "\n",
    "- \"Jeitos mais avançados de fazer coisas que já sabemos\": List Comprehensions, Lambda Expressions e Estrutura With\n",
    "\n",
    "- Aprender e se Acostumar com mais Módulos"
   ]
  },
  {
   "cell_type": "markdown",
   "metadata": {},
   "source": [
    "### O que você deve fazer agora?\n",
    "\n",
    "1. Nesse ponto, você já deve estar tranquilo de trabalhar com todas as estruturas e o que aprendemos e treinamos nos módulos anteriores.\n",
    "\n",
    "2. A partir de agora, vai de cada um, mas minha recomendação é: siga o ritmo do curso normalmente. Fora isso:\n",
    "    - Se você quer dominar tudo de Python, é só seguir o ritmo normal do Programa e fazer os módulos que faltam, antes de entrar nas Aplicações de Mercado\n",
    "    - Se você tá com pressa e quer ir direto pra Data Science ou para Automações, recomendo pelo menos assistir a Seção de List Comprehension, Lambda Expressions e With porque isso pode ser usado em basicamente qualquer código e é bom pelo menos você saber ler esses códigos.\n",
    "    - Se você quer ir para aplicações de Desenvolvedor, construir sites e aplicativos, então siga o ritmo normal do Curso porque a parte de Classes e Orientação a Objeto é muito importante para você\n",
    "    - No limite, você poderia pular os módulos que faltam do Programa e ir direto para as Aplicações do Mercado de Trabalho, que em muitos casos você vai se sair bem, mas saiba que vai ter \"gaps\" e \"falhas\" no seu conhecimento de Python que podem acabar impactando e dificultando os seus programas sem você saber. Então eu só recomendo você pular alguma coisa se estiver com pressa para ir para alguma aplicação específica logo"
   ]
  }
 ],
 "metadata": {
  "kernelspec": {
   "display_name": "Python 3 (ipykernel)",
   "language": "python",
   "name": "python3"
  },
  "language_info": {
   "codemirror_mode": {
    "name": "ipython",
    "version": 3
   },
   "file_extension": ".py",
   "mimetype": "text/x-python",
   "name": "python",
   "nbconvert_exporter": "python",
   "pygments_lexer": "ipython3",
   "version": "3.9.12"
  }
 },
 "nbformat": 4,
 "nbformat_minor": 4
}
