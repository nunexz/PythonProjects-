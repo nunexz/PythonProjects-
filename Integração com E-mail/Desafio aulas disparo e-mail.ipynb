{
 "cells": [
  {
   "cell_type": "markdown",
   "id": "1f68913d",
   "metadata": {},
   "source": [
    "# Integração Python com Outlook"
   ]
  },
  {
   "cell_type": "markdown",
   "id": "5cec6ab3",
   "metadata": {},
   "source": [
    "### Funciona para qualquer e-mail: corporativo, gmail, hormail, etc."
   ]
  },
  {
   "cell_type": "markdown",
   "id": "69c09958",
   "metadata": {},
   "source": [
    "#### Passo 1: Importar win32 e inicializar o outlook"
   ]
  },
  {
   "cell_type": "code",
   "execution_count": 4,
   "id": "89091d08",
   "metadata": {
    "scrolled": true
   },
   "outputs": [],
   "source": [
    "\n",
    "\n",
    "outlook = win32.Dispatch('outlook.application')"
   ]
  },
  {
   "cell_type": "markdown",
   "id": "ec4bec57",
   "metadata": {},
   "source": [
    "#### Passo 2: Escrever o e-mail e disparar"
   ]
  },
  {
   "cell_type": "code",
   "execution_count": 6,
   "id": "fa68de03",
   "metadata": {},
   "outputs": [],
   "source": [
    "mail = outlook.CreateItem(0)\n",
    "mail.To = 'nunes.morato2424@gmail.com'\n",
    "mail.CC = 'email@gmail.com'\n",
    "mail.BCC = 'email@gmail.com'\n",
    "mail.Subject = 'Email vindo do Outlook'\n",
    "mail.Body = 'Texto do E-mail'\n",
    "#ou mail.HTMLBody = '<p>Corpo do Email em HTML</P>'\n",
    "\n",
    "#Anexos (pode colocar quantos quiser):\n",
    "attachment = r'C:\\Users\\User\\OneDrive\\Documentos\\Integração com E-mail\\Financeiro.xlsx'\n",
    "mail.Attachments.Add(attachment)\n",
    "\n",
    "mail.Send()"
   ]
  },
  {
   "cell_type": "markdown",
   "id": "9ab84318",
   "metadata": {},
   "source": [
    "# Desafio Python e E-mail\n",
    "\n",
    "#### Descrição\n",
    "\n",
    "Digamos que você trabalha em uma indústria e está responsável pela área de inteligência de negócio.\n",
    "\n",
    "Todo dia, você, a equipe ou até mesmo um programa, gera um report diferente para cada área da empresa:\n",
    "\n",
    "    . Financeiro\n",
    "    . Logística\n",
    "    . Manutenção\n",
    "    . Marketing\n",
    "    . Operações \n",
    "    . Produção\n",
    "    . Vendas\n",
    "\n",
    "Cada um desses reports deve ser enviado por e-mail para o Gerente de cada Área.\n",
    "\n",
    "Crie um programa que faça isso automaticamente. A relação de Gerentes (com seus respecrivos e-mails) e áreas está no arquivo 'Enviar E-mails.xlsx'\n",
    "\n",
    "Dica: Use o pandas read_excel para ler o arquivo dos e-mails que isso vai facilitar."
   ]
  },
  {
   "cell_type": "code",
   "execution_count": 14,
   "id": "c0cb0e18",
   "metadata": {},
   "outputs": [],
   "source": [
    "import pandas as pd\n",
    "import win32com.client as win32\n",
    "\n",
    "gerentes_df = pd.read_excel('Enviar E-mails.xlsx')\n",
    "#gerentes_df .info()\n",
    "#display(enviar_emails)\n",
    "\n",
    "for i, email in enumerate(gerentes_df['E-mail']):\n",
    "    gerente = gerentes_df.loc[i, 'Gerente']\n",
    "    area = gerentes_df.loc[i, 'Relatório']\n",
    "    mail = outlook.CreateItem(0)\n",
    "    mail.To = email\n",
    "    mail.Subject = 'Relatório de {}'.format(area)\n",
    "    mail.Body = '''\n",
    "    Prezado {},\n",
    "    segue em anexo o Relatório de {}, conforme solicitado.\n",
    "    Qualquer dúvida estou à disposição.\n",
    "    Att.,\n",
    "    '''.format(gerente, area)\n",
    "    attachment = r'C:\\Users\\User\\OneDrive\\Documentos\\Integração com E-mail\\{}.xlsx'.format(area)\n",
    "    mail.Attachments.Add(attachment)\n",
    "\n",
    "    mail.Send()"
   ]
  }
 ],
 "metadata": {
  "kernelspec": {
   "display_name": "Python 3 (ipykernel)",
   "language": "python",
   "name": "python3"
  },
  "language_info": {
   "codemirror_mode": {
    "name": "ipython",
    "version": 3
   },
   "file_extension": ".py",
   "mimetype": "text/x-python",
   "name": "python",
   "nbconvert_exporter": "python",
   "pygments_lexer": "ipython3",
   "version": "3.9.12"
  }
 },
 "nbformat": 4,
 "nbformat_minor": 5
}
