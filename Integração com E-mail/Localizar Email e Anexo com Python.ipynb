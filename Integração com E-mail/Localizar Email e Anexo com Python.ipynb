{
 "cells": [
  {
   "cell_type": "code",
   "execution_count": 2,
   "id": "7b425da8",
   "metadata": {},
   "outputs": [
    {
     "ename": "MailboxLoginError",
     "evalue": "Response status \"OK\" expected, but \"NO\" received. Data: [b'[AUTHENTICATIONFAILED] Invalid credentials (Failure)']",
     "output_type": "error",
     "traceback": [
      "\u001b[1;31m---------------------------------------------------------------------------\u001b[0m",
      "\u001b[1;31mMailboxLoginError\u001b[0m                         Traceback (most recent call last)",
      "Input \u001b[1;32mIn [2]\u001b[0m, in \u001b[0;36m<cell line: 6>\u001b[1;34m()\u001b[0m\n\u001b[0;32m      3\u001b[0m usuario \u001b[38;5;241m=\u001b[39m \u001b[38;5;124m\"\u001b[39m\u001b[38;5;124mnunes.morato2424@gmail.com\u001b[39m\u001b[38;5;124m\"\u001b[39m\n\u001b[0;32m      4\u001b[0m senha \u001b[38;5;241m=\u001b[39m \u001b[38;5;124m\"\u001b[39m\u001b[38;5;124m@Mncm231415\u001b[39m\u001b[38;5;124m\"\u001b[39m\n\u001b[1;32m----> 6\u001b[0m meu_email \u001b[38;5;241m=\u001b[39m \u001b[43mMailBox\u001b[49m\u001b[43m(\u001b[49m\u001b[38;5;124;43m\"\u001b[39;49m\u001b[38;5;124;43mimap.gmail.com\u001b[39;49m\u001b[38;5;124;43m\"\u001b[39;49m\u001b[43m)\u001b[49m\u001b[38;5;241;43m.\u001b[39;49m\u001b[43mlogin\u001b[49m\u001b[43m(\u001b[49m\u001b[43musuario\u001b[49m\u001b[43m,\u001b[49m\u001b[43m \u001b[49m\u001b[43msenha\u001b[49m\u001b[43m)\u001b[49m\n",
      "File \u001b[1;32m~\\anaconda3\\lib\\site-packages\\imap_tools\\mailbox.py:65\u001b[0m, in \u001b[0;36mBaseMailBox.login\u001b[1;34m(self, username, password, initial_folder)\u001b[0m\n\u001b[0;32m     63\u001b[0m \u001b[38;5;124;03m\"\"\"Authenticate to account\"\"\"\u001b[39;00m\n\u001b[0;32m     64\u001b[0m login_result \u001b[38;5;241m=\u001b[39m \u001b[38;5;28mself\u001b[39m\u001b[38;5;241m.\u001b[39mclient\u001b[38;5;241m.\u001b[39m_simple_command(\u001b[38;5;124m'\u001b[39m\u001b[38;5;124mLOGIN\u001b[39m\u001b[38;5;124m'\u001b[39m, username, \u001b[38;5;28mself\u001b[39m\u001b[38;5;241m.\u001b[39mclient\u001b[38;5;241m.\u001b[39m_quote(password))  \u001b[38;5;66;03m# noqa\u001b[39;00m\n\u001b[1;32m---> 65\u001b[0m \u001b[43mcheck_command_status\u001b[49m\u001b[43m(\u001b[49m\u001b[43mlogin_result\u001b[49m\u001b[43m,\u001b[49m\u001b[43m \u001b[49m\u001b[43mMailboxLoginError\u001b[49m\u001b[43m)\u001b[49m\n\u001b[0;32m     66\u001b[0m \u001b[38;5;28mself\u001b[39m\u001b[38;5;241m.\u001b[39mclient\u001b[38;5;241m.\u001b[39mstate \u001b[38;5;241m=\u001b[39m \u001b[38;5;124m'\u001b[39m\u001b[38;5;124mAUTH\u001b[39m\u001b[38;5;124m'\u001b[39m  \u001b[38;5;66;03m# logic from self.client.login\u001b[39;00m\n\u001b[0;32m     67\u001b[0m \u001b[38;5;28;01mif\u001b[39;00m initial_folder \u001b[38;5;129;01mis\u001b[39;00m \u001b[38;5;129;01mnot\u001b[39;00m \u001b[38;5;28;01mNone\u001b[39;00m:\n",
      "File \u001b[1;32m~\\anaconda3\\lib\\site-packages\\imap_tools\\utils.py:46\u001b[0m, in \u001b[0;36mcheck_command_status\u001b[1;34m(command_result, exception, expected)\u001b[0m\n\u001b[0;32m     44\u001b[0m typ, data \u001b[38;5;241m=\u001b[39m command_result[\u001b[38;5;241m0\u001b[39m], command_result[\u001b[38;5;241m1\u001b[39m]\n\u001b[0;32m     45\u001b[0m \u001b[38;5;28;01mif\u001b[39;00m typ \u001b[38;5;241m!=\u001b[39m expected:\n\u001b[1;32m---> 46\u001b[0m     \u001b[38;5;28;01mraise\u001b[39;00m exception(command_result\u001b[38;5;241m=\u001b[39mcommand_result, expected\u001b[38;5;241m=\u001b[39mexpected)\n",
      "\u001b[1;31mMailboxLoginError\u001b[0m: Response status \"OK\" expected, but \"NO\" received. Data: [b'[AUTHENTICATIONFAILED] Invalid credentials (Failure)']"
     ]
    }
   ],
   "source": [
    "from imap_tools import MailBox, AND\n",
    "\n",
    "usuario = \"nunes.morato2424@gmail.com\"\n",
    "senha = \"@Mncm231415\"\n",
    "\n",
    "meu_email = MailBox(\"imap.gmail.com\").login(usuario, senha)"
   ]
  },
  {
   "cell_type": "code",
   "execution_count": 10,
   "id": "ebee7f0f",
   "metadata": {},
   "outputs": [
    {
     "name": "stdout",
     "output_type": "stream",
     "text": [
      "Relatório de Vendas de Ontem\n",
      "Prezados, bom dia\n",
      "\n",
      "O faturamento de ontem foi de: R$2,917,311.00\n",
      "A quantidade de produtos foi de: 15,227\n",
      "\n",
      "Abs\n",
      "LiraPython\n",
      "\n",
      "Relatório de Vendas de Ontem\n",
      "Prezados, bom dia\n",
      "\n",
      "O faturamento de ontem foi de: R$2,917,311.00\n",
      "A quantidade de produtos foi de: 15,227\n",
      "\n",
      "Abs\n",
      "LiraPython\n",
      "\n",
      "Relatório de Vendas do Lira\n",
      "Prezados,\n",
      "\n",
      "Segue em anexo o relatório de vendas de outubro.\n",
      "\n",
      "Att.,\n",
      "Lira\n",
      "\n",
      "Relatorio Excel de Vendas\n",
      "Prezados,\n",
      "\n",
      "Segue em anexo o relatório de vendas de outubro.\n",
      "\n",
      "Att.,\n",
      "Lira\n",
      "\n"
     ]
    }
   ],
   "source": [
    "# pegar email que foram enviados por um remetente específico\n",
    "\n"
   ]
  },
  {
   "cell_type": "code",
   "execution_count": 11,
   "id": "24573987",
   "metadata": {},
   "outputs": [],
   "source": [
    "# pegar anexo de um email\n"
   ]
  },
  {
   "cell_type": "code",
   "execution_count": null,
   "id": "4075eb73",
   "metadata": {},
   "outputs": [],
   "source": []
  }
 ],
 "metadata": {
  "kernelspec": {
   "display_name": "Python 3 (ipykernel)",
   "language": "python",
   "name": "python3"
  },
  "language_info": {
   "codemirror_mode": {
    "name": "ipython",
    "version": 3
   },
   "file_extension": ".py",
   "mimetype": "text/x-python",
   "name": "python",
   "nbconvert_exporter": "python",
   "pygments_lexer": "ipython3",
   "version": "3.9.12"
  }
 },
 "nbformat": 4,
 "nbformat_minor": 5
}
